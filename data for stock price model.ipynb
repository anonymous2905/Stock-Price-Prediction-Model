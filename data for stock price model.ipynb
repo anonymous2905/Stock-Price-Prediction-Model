{
 "cells": [
  {
   "cell_type": "code",
   "execution_count": 21,
   "metadata": {},
   "outputs": [],
   "source": [
    "import yfinance as yf\n",
    "import pandas as pd\n",
    "import os\n",
    "\n",
    "# Define the directory names\n",
    "categories = [\"large_cap\", \"mid_cap\", \"small_cap\"]\n",
    "\n",
    "# Create directories if they don't exist\n",
    "for category in categories:\n",
    "    if not os.path.exists(category):\n",
    "        os.makedirs(category)\n",
    "\n"
   ]
  },
  {
   "cell_type": "code",
   "execution_count": 22,
   "metadata": {},
   "outputs": [],
   "source": [
    "# List of tickers for large-cap stocks\n",
    "large_cap_stocks = [\n",
    "    'RELIANCE.NS', 'TCS.NS', 'HDFCBANK.NS', 'ICICIBANK.NS', 'HINDUNILVR.NS', 'INFY.NS', 'SBIN.NS', 'ITC.NS', 'HDFC.NS', 'BHARTIARTL.NS',\n",
    "    'BAJFINANCE.NS', 'LICI.NS', 'KOTAKBANK.NS', 'LT.NS', 'HCLTECH.NS', 'ASIANPAINT.NS', 'AXISBANK.NS', 'MARUTI.NS', 'ADANIENT.NS', 'SUNPHARMA.NS',\n",
    "    'DMART.NS', 'TITAN.NS', 'BAJAJFINSV.NS', 'ULTRACEMCO.NS', 'WIPRO.NS', 'NESTLEIND.NS', 'ONGC.NS', 'JSWSTEEL.NS', 'NTPC.NS', 'TATAMOTORS.NS',\n",
    "    'ADANIGREEN.NS', 'M&M.NS', 'POWERGRID.NS', 'ADANIPORTS.NS', 'ATGL.NS', 'COALINDIA.NS', 'LTIM.NS', 'TATASTEEL.NS', 'ADANITRANS.NS', 'HINDZINC.NS',\n",
    "    'PIDILITIND.NS', 'SIEMENS.NS', 'SBILIFE.NS', 'HDFCLIFE.NS', 'BAJAJ-AUTO.NS', 'IOC.NS', 'GRASIM.NS', 'BRITANNIA.NS', 'VEDL.NS', 'TECHM.NS',\n",
    "    'DLF.NS', 'GODREJCP.NS', 'HINDALCO.NS', 'DABUR.NS', 'HAL.NS', 'VBL.NS', 'BANKBARODA.NS', 'INDUSINDBK.NS', 'EICHERMOT.NS', 'SHREECEM.NS',\n",
    "    'ADANIPOWER.NS', 'DIVISLAB.NS', 'AMBUJACEM.NS', 'INDIGO.NS', 'CIPLA.NS', 'HAVELLS.NS', 'DRREDDY.NS', 'BEL.NS', 'SBICARD.NS', 'BPCL.NS',\n",
    "    'ABB.NS', 'CHOLAFIN.NS', 'BAJAJHLDNG.NS', 'TATACONSUM.NS', 'SRF.NS', 'GAIL.NS', 'TATAPOWER.NS', 'MARICO.NS', 'ICICIPRULI.NS', 'APOLLOHOSP.NS',\n",
    "    'MANKIND.NS', 'UNITDSPR.NS', 'BERGEPAINT.NS', 'JINDALSTEL.NS', 'AWL.NS', 'ICICIGI.NS', 'PNB.NS', 'IDBI.NS', 'TORNTPHARM.NS', 'CANBK.NS',\n",
    "    'TVSMOTOR.NS', 'BOSCHLTD.NS', 'UPL.NS', 'HEROMOTOCO.NS', 'TIINDIA.NS', 'MOTHERSON.NS', 'ZOMATO.NS', 'IRCTC.NS', 'PIIND.NS', 'TRENT.NS'\n",
    "]\n",
    "\n",
    "# List of tickers for mid-cap stocks\n",
    "mid_cap_stocks = [\n",
    "    'ACC.NS', 'APLAP.NS', 'APOLLO.NS', 'AUBANK.NS', 'ABCAPITAL.NS', 'ABFRL.NS', 'ALKEM.NS', 'APOLLOTYRE.NS', 'ASHOKLEY.NS', 'ASTRAL.NS', 'AUROPHARMA.NS',\n",
    "    'BSESENSEX.NS', 'BALKRISIND.NS', 'BANDHANBNK.NS', 'BANKINDIA.NS', 'MAHABANK.NS', 'BDL.NS', 'BHARATFORG.NS', 'BHEL.NS', 'BIOCON.NS', 'CGPOWER.NS',\n",
    "    'COFORGE.NS', 'CONCOR.NS', 'CUMMINSIND.NS', 'DALBHARAT.NS', 'DEEPAKNTR.NS', 'DELHIVERY.NS', 'DIXONLAL.NS', 'PATHOLABS.NS', 'ESCORTS.NS', 'NYKAA.NS',\n",
    "    'FEDERALBNK.NS', 'FACT.NS', 'FORTIS.NS', 'GMRINFRA.NS', 'GLAND.NS', 'GODREJPROP.NS', 'GUJGASLTD.NS', 'HDFCAMC.NS', 'HINDPETRO.NS', 'IDBI.NS',\n",
    "    'IDFCFIRSTB.NS', 'INDIANB.NS', 'INDHOTEL.NS', 'IGL.NS', 'INDUSTOWER.NS', 'IPCALAB.NS', 'JSWENERGY.NS', 'JSWINFRA.NS', 'JUBLFOOD.NS', 'KPITTECH.NS',\n",
    "    'KALYANMLY.NS', 'KPIT.NS', 'LTI.NS', 'LT.NS', 'LTTS.NS', 'LICI.NS', 'HSGFIN.NS', 'LAURUSLABS.NS', 'LUPIN.NS', 'MRF.NS', 'LODHA.NS', 'M&MFIN.NS',\n",
    "    'MANKIND.NS', 'MFSL.NS', 'MAXHEALTH.NS', 'MAZDOCK.NS', 'MPHASIS.NS', 'NHPC.NS', 'NMDC.NS', 'OBEROIRLTY.NS', 'OIL.NS', 'PAYTM.NS', 'OFSS.NS',\n",
    "    'POLICYBZR.NS', 'PIIND.NS', 'PAGEIND.NS', 'PATANJALI.NS', 'PERSISTENT.NS', 'PETRONET.NS', 'PEL.NS', 'POLYCAB.NS', 'POONAWALLA.NS', 'PRESTIGE.NS',\n",
    "    'RVNL.NS', 'SJVN.NS', 'SONACOMS.NS', 'SAIL.NS', 'SUNTV.NS', 'SUPREMEIND.NS', 'SUZLON.NS', 'SYNGENE.NS', 'TATACHEM.NS', 'TATACOMM.NS', 'TATAELXSI.NS',\n",
    "    'TATATECH.NS', 'TORNTPOWER.NS', 'TIINDIA.NS', 'UPL.NS', 'UNIONBANK.NS', 'IDEA.NS', 'VOLTAS.NS', 'YESBANK.NS', 'ZEEL.NS'\n",
    "]\n",
    "\n",
    "# List of tickers for small-cap stocks\n",
    "small_cap_stocks =  [\n",
    "    'AARTIIND.NS', 'AAVAS.NS', 'AFFLE.NS', 'ALOKINDST.NS', 'AREARMAAM.NS', 'AMBERANGELONE.NS', 'APARINDS.NS', 'BLSBLSWHT.NS', 'BSOFT.NS', 'BLUESTARCO.NS',\n",
    "    'CESC.NS', 'CIEIND.NS', 'CANFINHOME.NS', 'CASTROLIND.NS', 'CEATLTD.NS', 'CENTRALBK.NS', 'CDSL.NS', 'CENTURYTEX.NS', 'CHAMBLFERT.NS', 'CUBCOBR.NS',\n",
    "    'CHINSHIPCC.NS', 'AMSCMIX.NS', 'CREDITACC.NS', 'CROMPTON.NS', 'CYIENT.NS', 'DATAPATTNS.NS', 'EQUITAS.NS', 'BNK.NS', 'EXIDEIND.NS', 'FINCABLES.NS',\n",
    "    'FSL.NS', 'FIVESTAR.NS', 'GLENMARK.NS', 'MEDANTAGR.NS', 'APHITE.NS', 'GESHIPLS.NS', 'GMDCLTD.NS', 'GNFC.NS', 'GSPL.NS', 'HFCL.NS', 'HAPPSTMNDS.NS',\n",
    "    'HSCL.NS', 'HINDCOPPER.NS', 'HONAUT.NS', 'HUDCO.NS', 'IDFCIFL.NS', 'IRBIRCOMCO.NS', 'NIT.NS', 'IIELECTRA.NS', 'XIOBINTELLECT.NS', 'JBCHEPHARM.NS',\n",
    "    'JBMA.NS', 'J&KBANK.NS', 'JYOTHYLAB.NS', 'KARURVYSYA.NS', 'KEC.NS', 'MGLX.NS', 'MANAPPURAM.NS', 'MRPL.NS', 'MCX.NS', 'NATCOPHARM.NS', 'NBCC.NS',\n",
    "    'NCLCONSULT.NS', 'NINDIANS.NS', 'LNT.NS', 'NPNHPLS.NS', 'NATIONALUM.NS', 'NAVINFLUOR.NS', 'NAM-INDIA.NS', 'OLECTRAB.NS', 'PNBHOUSING.NS', 'PVR.NS',\n",
    "    'INOXGREEN.NS', 'PPLPHARMAA.NS', 'PRAJINDAI.NS', 'RKABEL.NS', 'RBLBANK.NS', 'RITES.NS', 'RADICO.NS', 'RKFORGE.NS', 'RAYMOND.NS', 'REDINGTON.NS',\n",
    "    'RENUKAS.NS', 'HYAMMETLSO.NS', 'NATSOFT.NS', 'SWANENERIG.NS', 'TANLA.NS', 'TATAAINVIT.NS', 'TTMLES.NS', 'TEJASNET.NS', 'TITAGARHCIAM.NS',\n",
    "    'TRIDENT.NS', 'TRITURBNE.NS', 'UCOBANK.NS', 'UJJIVAN.NS', 'SFB.NS', 'WELSPUNIND.NS', 'ZIVZENSARTECH.NS'\n",
    "]\n"
   ]
  },
  {
   "cell_type": "code",
   "execution_count": 23,
   "metadata": {},
   "outputs": [
    {
     "name": "stdout",
     "output_type": "stream",
     "text": [
      "All ticker symbols are valid.\n"
     ]
    }
   ],
   "source": [
    "def check_valid_tickers(tickers):\n",
    "    valid_tickers = yf.Tickers(\" \".join(tickers))\n",
    "    valid_symbols = valid_tickers.tickers\n",
    "    invalid_symbols = set(tickers) - set(valid_symbols)\n",
    "    if invalid_symbols:\n",
    "        print(\"Invalid ticker symbols:\")\n",
    "        print(\", \".join(invalid_symbols))\n",
    "    else:\n",
    "        print(\"All ticker symbols are valid.\")\n",
    "\n",
    "# Combine all ticker symbols into a single list\n",
    "all_tickers = large_cap_stocks + mid_cap_stocks + small_cap_stocks\n",
    "\n",
    "# Check if the ticker symbols are valid\n",
    "check_valid_tickers(all_tickers)"
   ]
  },
  {
   "cell_type": "code",
   "execution_count": 24,
   "metadata": {},
   "outputs": [
    {
     "data": {
      "text/plain": [
       "'\\ndef fetch_and_save_data(tickers, start_date, end_date, category):\\n    for ticker in tickers:\\n        try:\\n            data = yf.download(ticker, start=start_date, end=end_date)\\n            if not data.empty:\\n                filename = f\"{category}/{ticker}_stock_data.csv\"\\n                data.to_csv(filename)\\n                print(f\"Data saved for {ticker} in {category}\")\\n            else:\\n                print(f\"No data available for {ticker} in {category}\")\\n        except Exception as e:\\n            print(f\"Error fetching data for {ticker}: {e}\")\\n            print(f\"Working with file: {filename}\")\\n'"
      ]
     },
     "execution_count": 24,
     "metadata": {},
     "output_type": "execute_result"
    }
   ],
   "source": [
    "\"\"\"\n",
    "def fetch_and_save_data(tickers, start_date, end_date, category):\n",
    "    for ticker in tickers:\n",
    "        try:\n",
    "            data = yf.download(ticker, start=start_date, end=end_date)\n",
    "            if not data.empty:\n",
    "                filename = f\"{category}/{ticker}_stock_data.csv\"\n",
    "                data.to_csv(filename)\n",
    "                print(f\"Data saved for {ticker} in {category}\")\n",
    "            else:\n",
    "                print(f\"No data available for {ticker} in {category}\")\n",
    "        except Exception as e:\n",
    "            print(f\"Error fetching data for {ticker}: {e}\")\n",
    "            print(f\"Working with file: {filename}\")\n",
    "\"\"\"\n"
   ]
  },
  {
   "cell_type": "code",
   "execution_count": 25,
   "metadata": {},
   "outputs": [
    {
     "name": "stderr",
     "output_type": "stream",
     "text": [
      "[*********************100%%**********************]  1 of 1 completed\n"
     ]
    },
    {
     "name": "stdout",
     "output_type": "stream",
     "text": [
      "Data saved for RELIANCE.NS in large_cap\n",
      "Cleaned data saved for large_cap/RELIANCE.NS_stock_data.csv\n"
     ]
    },
    {
     "name": "stderr",
     "output_type": "stream",
     "text": [
      "[*********************100%%**********************]  1 of 1 completed\n",
      "[*********************100%%**********************]  1 of 1 completed"
     ]
    },
    {
     "name": "stdout",
     "output_type": "stream",
     "text": [
      "Data saved for TCS.NS in large_cap\n",
      "Cleaned data saved for large_cap/TCS.NS_stock_data.csv\n"
     ]
    },
    {
     "name": "stderr",
     "output_type": "stream",
     "text": [
      "\n",
      "[*********************100%%**********************]  1 of 1 completed"
     ]
    },
    {
     "name": "stdout",
     "output_type": "stream",
     "text": [
      "Data saved for HDFCBANK.NS in large_cap\n",
      "Cleaned data saved for large_cap/HDFCBANK.NS_stock_data.csv\n"
     ]
    },
    {
     "name": "stderr",
     "output_type": "stream",
     "text": [
      "\n"
     ]
    },
    {
     "name": "stdout",
     "output_type": "stream",
     "text": [
      "Data saved for ICICIBANK.NS in large_cap\n",
      "Cleaned data saved for large_cap/ICICIBANK.NS_stock_data.csv\n"
     ]
    },
    {
     "name": "stderr",
     "output_type": "stream",
     "text": [
      "[*********************100%%**********************]  1 of 1 completed\n"
     ]
    },
    {
     "name": "stdout",
     "output_type": "stream",
     "text": [
      "Data saved for HINDUNILVR.NS in large_cap\n",
      "Cleaned data saved for large_cap/HINDUNILVR.NS_stock_data.csv\n"
     ]
    },
    {
     "name": "stderr",
     "output_type": "stream",
     "text": [
      "[*********************100%%**********************]  1 of 1 completed\n",
      "[*********************100%%**********************]  1 of 1 completed"
     ]
    },
    {
     "name": "stdout",
     "output_type": "stream",
     "text": [
      "Data saved for INFY.NS in large_cap\n",
      "Cleaned data saved for large_cap/INFY.NS_stock_data.csv\n",
      "Data saved for SBIN.NS in large_cap\n"
     ]
    },
    {
     "name": "stderr",
     "output_type": "stream",
     "text": [
      "\n",
      "[*********************100%%**********************]  1 of 1 completed"
     ]
    },
    {
     "name": "stdout",
     "output_type": "stream",
     "text": [
      "Cleaned data saved for large_cap/SBIN.NS_stock_data.csv\n",
      "Data saved for ITC.NS in large_cap\n",
      "Cleaned data saved for large_cap/ITC.NS_stock_data.csv\n"
     ]
    },
    {
     "name": "stderr",
     "output_type": "stream",
     "text": [
      "\n",
      "[*********************100%%**********************]  1 of 1 completed\n",
      "\n",
      "1 Failed download:\n",
      "['HDFC.NS']: Exception('%ticker%: No price data found, symbol may be delisted (1d 2017-01-01 -> 2021-01-01)')\n",
      "[*********************100%%**********************]  1 of 1 completed"
     ]
    },
    {
     "name": "stdout",
     "output_type": "stream",
     "text": [
      "No data available for HDFC.NS in large_cap\n",
      "Data saved for BHARTIARTL.NS in large_cap\n",
      "Cleaned data saved for large_cap/BHARTIARTL.NS_stock_data.csv\n"
     ]
    },
    {
     "name": "stderr",
     "output_type": "stream",
     "text": [
      "\n",
      "[*********************100%%**********************]  1 of 1 completed\n"
     ]
    },
    {
     "name": "stdout",
     "output_type": "stream",
     "text": [
      "Data saved for BAJFINANCE.NS in large_cap\n",
      "Cleaned data saved for large_cap/BAJFINANCE.NS_stock_data.csv\n"
     ]
    },
    {
     "name": "stderr",
     "output_type": "stream",
     "text": [
      "[*********************100%%**********************]  1 of 1 completed\n",
      "\n",
      "1 Failed download:\n",
      "['LICI.NS']: Exception(\"%ticker%: Data doesn't exist for startDate = 1483209000, endDate = 1609439400\")\n"
     ]
    },
    {
     "name": "stdout",
     "output_type": "stream",
     "text": [
      "No data available for LICI.NS in large_cap\n"
     ]
    },
    {
     "name": "stderr",
     "output_type": "stream",
     "text": [
      "[*********************100%%**********************]  1 of 1 completed\n",
      "[*********************100%%**********************]  1 of 1 completed"
     ]
    },
    {
     "name": "stdout",
     "output_type": "stream",
     "text": [
      "Data saved for KOTAKBANK.NS in large_cap\n",
      "Cleaned data saved for large_cap/KOTAKBANK.NS_stock_data.csv\n"
     ]
    },
    {
     "name": "stderr",
     "output_type": "stream",
     "text": [
      "\n"
     ]
    },
    {
     "name": "stdout",
     "output_type": "stream",
     "text": [
      "Data saved for LT.NS in large_cap\n",
      "Cleaned data saved for large_cap/LT.NS_stock_data.csv\n"
     ]
    },
    {
     "name": "stderr",
     "output_type": "stream",
     "text": [
      "[*********************100%%**********************]  1 of 1 completed\n"
     ]
    },
    {
     "name": "stdout",
     "output_type": "stream",
     "text": [
      "Data saved for HCLTECH.NS in large_cap\n",
      "Cleaned data saved for large_cap/HCLTECH.NS_stock_data.csv\n"
     ]
    },
    {
     "name": "stderr",
     "output_type": "stream",
     "text": [
      "[*********************100%%**********************]  1 of 1 completed\n",
      "[*********************100%%**********************]  1 of 1 completed"
     ]
    },
    {
     "name": "stdout",
     "output_type": "stream",
     "text": [
      "Data saved for ASIANPAINT.NS in large_cap\n",
      "Cleaned data saved for large_cap/ASIANPAINT.NS_stock_data.csv\n"
     ]
    },
    {
     "name": "stderr",
     "output_type": "stream",
     "text": [
      "\n"
     ]
    },
    {
     "name": "stdout",
     "output_type": "stream",
     "text": [
      "Data saved for AXISBANK.NS in large_cap\n",
      "Cleaned data saved for large_cap/AXISBANK.NS_stock_data.csv\n"
     ]
    },
    {
     "name": "stderr",
     "output_type": "stream",
     "text": [
      "[*********************100%%**********************]  1 of 1 completed\n"
     ]
    },
    {
     "name": "stdout",
     "output_type": "stream",
     "text": [
      "Data saved for MARUTI.NS in large_cap\n",
      "Cleaned data saved for large_cap/MARUTI.NS_stock_data.csv\n"
     ]
    },
    {
     "name": "stderr",
     "output_type": "stream",
     "text": [
      "[*********************100%%**********************]  1 of 1 completed\n"
     ]
    },
    {
     "name": "stdout",
     "output_type": "stream",
     "text": [
      "Data saved for ADANIENT.NS in large_cap\n",
      "Cleaned data saved for large_cap/ADANIENT.NS_stock_data.csv\n"
     ]
    },
    {
     "name": "stderr",
     "output_type": "stream",
     "text": [
      "[*********************100%%**********************]  1 of 1 completed\n",
      "[*********************100%%**********************]  1 of 1 completed"
     ]
    },
    {
     "name": "stdout",
     "output_type": "stream",
     "text": [
      "Data saved for SUNPHARMA.NS in large_cap\n",
      "Cleaned data saved for large_cap/SUNPHARMA.NS_stock_data.csv\n",
      "Data saved for DMART.NS in large_cap\n"
     ]
    },
    {
     "name": "stderr",
     "output_type": "stream",
     "text": [
      "\n",
      "[*********************100%%**********************]  1 of 1 completed"
     ]
    },
    {
     "name": "stdout",
     "output_type": "stream",
     "text": [
      "Cleaned data saved for large_cap/DMART.NS_stock_data.csv\n"
     ]
    },
    {
     "name": "stderr",
     "output_type": "stream",
     "text": [
      "\n"
     ]
    },
    {
     "name": "stdout",
     "output_type": "stream",
     "text": [
      "Data saved for TITAN.NS in large_cap\n",
      "Cleaned data saved for large_cap/TITAN.NS_stock_data.csv\n"
     ]
    },
    {
     "name": "stderr",
     "output_type": "stream",
     "text": [
      "[*********************100%%**********************]  1 of 1 completed\n"
     ]
    },
    {
     "name": "stdout",
     "output_type": "stream",
     "text": [
      "Data saved for BAJAJFINSV.NS in large_cap\n",
      "Cleaned data saved for large_cap/BAJAJFINSV.NS_stock_data.csv\n"
     ]
    },
    {
     "name": "stderr",
     "output_type": "stream",
     "text": [
      "[*********************100%%**********************]  1 of 1 completed\n"
     ]
    },
    {
     "name": "stdout",
     "output_type": "stream",
     "text": [
      "Data saved for ULTRACEMCO.NS in large_cap\n",
      "Cleaned data saved for large_cap/ULTRACEMCO.NS_stock_data.csv\n"
     ]
    },
    {
     "name": "stderr",
     "output_type": "stream",
     "text": [
      "[*********************100%%**********************]  1 of 1 completed\n"
     ]
    },
    {
     "name": "stdout",
     "output_type": "stream",
     "text": [
      "Data saved for WIPRO.NS in large_cap\n",
      "Cleaned data saved for large_cap/WIPRO.NS_stock_data.csv\n"
     ]
    },
    {
     "name": "stderr",
     "output_type": "stream",
     "text": [
      "[*********************100%%**********************]  1 of 1 completed\n",
      "[*********************100%%**********************]  1 of 1 completed"
     ]
    },
    {
     "name": "stdout",
     "output_type": "stream",
     "text": [
      "Data saved for NESTLEIND.NS in large_cap\n",
      "Cleaned data saved for large_cap/NESTLEIND.NS_stock_data.csv\n"
     ]
    },
    {
     "name": "stderr",
     "output_type": "stream",
     "text": [
      "\n"
     ]
    },
    {
     "name": "stdout",
     "output_type": "stream",
     "text": [
      "Data saved for ONGC.NS in large_cap\n",
      "Cleaned data saved for large_cap/ONGC.NS_stock_data.csv\n"
     ]
    },
    {
     "name": "stderr",
     "output_type": "stream",
     "text": [
      "[*********************100%%**********************]  1 of 1 completed\n",
      "[*********************100%%**********************]  1 of 1 completed"
     ]
    },
    {
     "name": "stdout",
     "output_type": "stream",
     "text": [
      "Data saved for JSWSTEEL.NS in large_cap\n",
      "Cleaned data saved for large_cap/JSWSTEEL.NS_stock_data.csv\n"
     ]
    },
    {
     "name": "stderr",
     "output_type": "stream",
     "text": [
      "\n"
     ]
    },
    {
     "name": "stdout",
     "output_type": "stream",
     "text": [
      "Data saved for NTPC.NS in large_cap\n",
      "Cleaned data saved for large_cap/NTPC.NS_stock_data.csv\n"
     ]
    },
    {
     "name": "stderr",
     "output_type": "stream",
     "text": [
      "[*********************100%%**********************]  1 of 1 completed\n",
      "[*********************100%%**********************]  1 of 1 completed\n"
     ]
    },
    {
     "name": "stdout",
     "output_type": "stream",
     "text": [
      "Data saved for TATAMOTORS.NS in large_cap\n",
      "Cleaned data saved for large_cap/TATAMOTORS.NS_stock_data.csv\n",
      "Data saved for ADANIGREEN.NS in large_cap\n",
      "Cleaned data saved for large_cap/ADANIGREEN.NS_stock_data.csv\n"
     ]
    },
    {
     "name": "stderr",
     "output_type": "stream",
     "text": [
      "[*********************100%%**********************]  1 of 1 completed\n"
     ]
    },
    {
     "name": "stdout",
     "output_type": "stream",
     "text": [
      "Data saved for M&M.NS in large_cap\n",
      "Cleaned data saved for large_cap/M&M.NS_stock_data.csv\n"
     ]
    },
    {
     "name": "stderr",
     "output_type": "stream",
     "text": [
      "[*********************100%%**********************]  1 of 1 completed\n",
      "[*********************100%%**********************]  1 of 1 completed"
     ]
    },
    {
     "name": "stdout",
     "output_type": "stream",
     "text": [
      "Data saved for POWERGRID.NS in large_cap\n",
      "Cleaned data saved for large_cap/POWERGRID.NS_stock_data.csv\n"
     ]
    },
    {
     "name": "stderr",
     "output_type": "stream",
     "text": [
      "\n"
     ]
    },
    {
     "name": "stdout",
     "output_type": "stream",
     "text": [
      "Data saved for ADANIPORTS.NS in large_cap\n",
      "Cleaned data saved for large_cap/ADANIPORTS.NS_stock_data.csv\n"
     ]
    },
    {
     "name": "stderr",
     "output_type": "stream",
     "text": [
      "[*********************100%%**********************]  1 of 1 completed\n"
     ]
    },
    {
     "name": "stdout",
     "output_type": "stream",
     "text": [
      "Data saved for ATGL.NS in large_cap\n",
      "Cleaned data saved for large_cap/ATGL.NS_stock_data.csv\n"
     ]
    },
    {
     "name": "stderr",
     "output_type": "stream",
     "text": [
      "[*********************100%%**********************]  1 of 1 completed\n"
     ]
    },
    {
     "name": "stdout",
     "output_type": "stream",
     "text": [
      "Data saved for COALINDIA.NS in large_cap\n",
      "Cleaned data saved for large_cap/COALINDIA.NS_stock_data.csv\n"
     ]
    },
    {
     "name": "stderr",
     "output_type": "stream",
     "text": [
      "[*********************100%%**********************]  1 of 1 completed\n"
     ]
    },
    {
     "name": "stdout",
     "output_type": "stream",
     "text": [
      "Data saved for LTIM.NS in large_cap\n",
      "Cleaned data saved for large_cap/LTIM.NS_stock_data.csv\n"
     ]
    },
    {
     "name": "stderr",
     "output_type": "stream",
     "text": [
      "[*********************100%%**********************]  1 of 1 completed\n"
     ]
    },
    {
     "name": "stdout",
     "output_type": "stream",
     "text": [
      "Data saved for TATASTEEL.NS in large_cap\n",
      "Cleaned data saved for large_cap/TATASTEEL.NS_stock_data.csv\n"
     ]
    },
    {
     "name": "stderr",
     "output_type": "stream",
     "text": [
      "[*********************100%%**********************]  1 of 1 completed\n",
      "\n",
      "1 Failed download:\n",
      "['ADANITRANS.NS']: Exception('%ticker%: No timezone found, symbol may be delisted')\n"
     ]
    },
    {
     "name": "stdout",
     "output_type": "stream",
     "text": [
      "No data available for ADANITRANS.NS in large_cap\n"
     ]
    },
    {
     "name": "stderr",
     "output_type": "stream",
     "text": [
      "[*********************100%%**********************]  1 of 1 completed\n"
     ]
    },
    {
     "name": "stdout",
     "output_type": "stream",
     "text": [
      "Data saved for HINDZINC.NS in large_cap\n",
      "Cleaned data saved for large_cap/HINDZINC.NS_stock_data.csv\n"
     ]
    },
    {
     "name": "stderr",
     "output_type": "stream",
     "text": [
      "[*********************100%%**********************]  1 of 1 completed\n"
     ]
    },
    {
     "name": "stdout",
     "output_type": "stream",
     "text": [
      "Data saved for PIDILITIND.NS in large_cap\n",
      "Cleaned data saved for large_cap/PIDILITIND.NS_stock_data.csv\n"
     ]
    },
    {
     "name": "stderr",
     "output_type": "stream",
     "text": [
      "[*********************100%%**********************]  1 of 1 completed\n"
     ]
    },
    {
     "name": "stdout",
     "output_type": "stream",
     "text": [
      "Data saved for SIEMENS.NS in large_cap\n",
      "Cleaned data saved for large_cap/SIEMENS.NS_stock_data.csv\n"
     ]
    },
    {
     "name": "stderr",
     "output_type": "stream",
     "text": [
      "[*********************100%%**********************]  1 of 1 completed\n",
      "[*********************100%%**********************]  1 of 1 completed"
     ]
    },
    {
     "name": "stdout",
     "output_type": "stream",
     "text": [
      "Data saved for SBILIFE.NS in large_cap\n",
      "Cleaned data saved for large_cap/SBILIFE.NS_stock_data.csv\n"
     ]
    },
    {
     "name": "stderr",
     "output_type": "stream",
     "text": [
      "\n"
     ]
    },
    {
     "name": "stdout",
     "output_type": "stream",
     "text": [
      "Data saved for HDFCLIFE.NS in large_cap\n",
      "Cleaned data saved for large_cap/HDFCLIFE.NS_stock_data.csv\n"
     ]
    },
    {
     "name": "stderr",
     "output_type": "stream",
     "text": [
      "[*********************100%%**********************]  1 of 1 completed\n"
     ]
    },
    {
     "name": "stdout",
     "output_type": "stream",
     "text": [
      "Data saved for BAJAJ-AUTO.NS in large_cap\n",
      "Cleaned data saved for large_cap/BAJAJ-AUTO.NS_stock_data.csv\n"
     ]
    },
    {
     "name": "stderr",
     "output_type": "stream",
     "text": [
      "[*********************100%%**********************]  1 of 1 completed\n"
     ]
    },
    {
     "name": "stdout",
     "output_type": "stream",
     "text": [
      "Data saved for IOC.NS in large_cap\n",
      "Cleaned data saved for large_cap/IOC.NS_stock_data.csv\n"
     ]
    },
    {
     "name": "stderr",
     "output_type": "stream",
     "text": [
      "[*********************100%%**********************]  1 of 1 completed\n"
     ]
    },
    {
     "name": "stdout",
     "output_type": "stream",
     "text": [
      "Data saved for GRASIM.NS in large_cap\n",
      "Cleaned data saved for large_cap/GRASIM.NS_stock_data.csv\n"
     ]
    },
    {
     "name": "stderr",
     "output_type": "stream",
     "text": [
      "[*********************100%%**********************]  1 of 1 completed\n"
     ]
    },
    {
     "name": "stdout",
     "output_type": "stream",
     "text": [
      "Data saved for BRITANNIA.NS in large_cap\n",
      "Cleaned data saved for large_cap/BRITANNIA.NS_stock_data.csv\n"
     ]
    },
    {
     "name": "stderr",
     "output_type": "stream",
     "text": [
      "[*********************100%%**********************]  1 of 1 completed\n",
      "[*********************100%%**********************]  1 of 1 completed"
     ]
    },
    {
     "name": "stdout",
     "output_type": "stream",
     "text": [
      "Data saved for VEDL.NS in large_cap\n",
      "Cleaned data saved for large_cap/VEDL.NS_stock_data.csv\n"
     ]
    },
    {
     "name": "stderr",
     "output_type": "stream",
     "text": [
      "\n",
      "[*********************100%%**********************]  1 of 1 completed\n"
     ]
    },
    {
     "name": "stdout",
     "output_type": "stream",
     "text": [
      "Data saved for TECHM.NS in large_cap\n",
      "Cleaned data saved for large_cap/TECHM.NS_stock_data.csv\n",
      "Data saved for DLF.NS in large_cap\n",
      "Cleaned data saved for large_cap/DLF.NS_stock_data.csv\n"
     ]
    },
    {
     "name": "stderr",
     "output_type": "stream",
     "text": [
      "[*********************100%%**********************]  1 of 1 completed\n",
      "[*********************100%%**********************]  1 of 1 completed"
     ]
    },
    {
     "name": "stdout",
     "output_type": "stream",
     "text": [
      "Data saved for GODREJCP.NS in large_cap\n",
      "Cleaned data saved for large_cap/GODREJCP.NS_stock_data.csv\n"
     ]
    },
    {
     "name": "stderr",
     "output_type": "stream",
     "text": [
      "\n",
      "[*********************100%%**********************]  1 of 1 completed"
     ]
    },
    {
     "name": "stdout",
     "output_type": "stream",
     "text": [
      "Data saved for HINDALCO.NS in large_cap\n",
      "Cleaned data saved for large_cap/HINDALCO.NS_stock_data.csv\n"
     ]
    },
    {
     "name": "stderr",
     "output_type": "stream",
     "text": [
      "\n",
      "[*********************100%%**********************]  1 of 1 completed\n"
     ]
    },
    {
     "name": "stdout",
     "output_type": "stream",
     "text": [
      "Data saved for DABUR.NS in large_cap\n",
      "Cleaned data saved for large_cap/DABUR.NS_stock_data.csv\n",
      "Data saved for HAL.NS in large_cap\n",
      "Cleaned data saved for large_cap/HAL.NS_stock_data.csv\n"
     ]
    },
    {
     "name": "stderr",
     "output_type": "stream",
     "text": [
      "[*********************100%%**********************]  1 of 1 completed\n"
     ]
    },
    {
     "name": "stdout",
     "output_type": "stream",
     "text": [
      "Data saved for VBL.NS in large_cap\n",
      "Cleaned data saved for large_cap/VBL.NS_stock_data.csv\n"
     ]
    },
    {
     "name": "stderr",
     "output_type": "stream",
     "text": [
      "[*********************100%%**********************]  1 of 1 completed\n",
      "[*********************100%%**********************]  1 of 1 completed"
     ]
    },
    {
     "name": "stdout",
     "output_type": "stream",
     "text": [
      "Data saved for BANKBARODA.NS in large_cap\n",
      "Cleaned data saved for large_cap/BANKBARODA.NS_stock_data.csv\n"
     ]
    },
    {
     "name": "stderr",
     "output_type": "stream",
     "text": [
      "\n",
      "[*********************100%%**********************]  1 of 1 completed"
     ]
    },
    {
     "name": "stdout",
     "output_type": "stream",
     "text": [
      "Data saved for INDUSINDBK.NS in large_cap\n",
      "Cleaned data saved for large_cap/INDUSINDBK.NS_stock_data.csv\n"
     ]
    },
    {
     "name": "stderr",
     "output_type": "stream",
     "text": [
      "\n"
     ]
    },
    {
     "name": "stdout",
     "output_type": "stream",
     "text": [
      "Data saved for EICHERMOT.NS in large_cap\n",
      "Cleaned data saved for large_cap/EICHERMOT.NS_stock_data.csv\n"
     ]
    },
    {
     "name": "stderr",
     "output_type": "stream",
     "text": [
      "[*********************100%%**********************]  1 of 1 completed\n",
      "[*********************100%%**********************]  1 of 1 completed\n"
     ]
    },
    {
     "name": "stdout",
     "output_type": "stream",
     "text": [
      "Data saved for SHREECEM.NS in large_cap\n",
      "Cleaned data saved for large_cap/SHREECEM.NS_stock_data.csv\n",
      "Data saved for ADANIPOWER.NS in large_cap\n",
      "Cleaned data saved for large_cap/ADANIPOWER.NS_stock_data.csv\n"
     ]
    },
    {
     "name": "stderr",
     "output_type": "stream",
     "text": [
      "[*********************100%%**********************]  1 of 1 completed\n",
      "[*********************100%%**********************]  1 of 1 completed"
     ]
    },
    {
     "name": "stdout",
     "output_type": "stream",
     "text": [
      "Data saved for DIVISLAB.NS in large_cap\n",
      "Cleaned data saved for large_cap/DIVISLAB.NS_stock_data.csv\n"
     ]
    },
    {
     "name": "stderr",
     "output_type": "stream",
     "text": [
      "\n",
      "[*********************100%%**********************]  1 of 1 completed\n"
     ]
    },
    {
     "name": "stdout",
     "output_type": "stream",
     "text": [
      "Data saved for AMBUJACEM.NS in large_cap\n",
      "Cleaned data saved for large_cap/AMBUJACEM.NS_stock_data.csv\n",
      "Data saved for INDIGO.NS in large_cap\n",
      "Cleaned data saved for large_cap/INDIGO.NS_stock_data.csv\n"
     ]
    },
    {
     "name": "stderr",
     "output_type": "stream",
     "text": [
      "[*********************100%%**********************]  1 of 1 completed\n",
      "[*********************100%%**********************]  1 of 1 completed"
     ]
    },
    {
     "name": "stdout",
     "output_type": "stream",
     "text": [
      "Data saved for CIPLA.NS in large_cap\n",
      "Cleaned data saved for large_cap/CIPLA.NS_stock_data.csv\n"
     ]
    },
    {
     "name": "stderr",
     "output_type": "stream",
     "text": [
      "\n",
      "[*********************100%%**********************]  1 of 1 completed\n"
     ]
    },
    {
     "name": "stdout",
     "output_type": "stream",
     "text": [
      "Data saved for HAVELLS.NS in large_cap\n",
      "Cleaned data saved for large_cap/HAVELLS.NS_stock_data.csv\n"
     ]
    },
    {
     "name": "stderr",
     "output_type": "stream",
     "text": [
      "[*********************100%%**********************]  1 of 1 completed\n"
     ]
    },
    {
     "name": "stdout",
     "output_type": "stream",
     "text": [
      "Data saved for DRREDDY.NS in large_cap\n",
      "Cleaned data saved for large_cap/DRREDDY.NS_stock_data.csv\n",
      "Data saved for BEL.NS in large_cap\n",
      "Cleaned data saved for large_cap/BEL.NS_stock_data.csv\n"
     ]
    },
    {
     "name": "stderr",
     "output_type": "stream",
     "text": [
      "[*********************100%%**********************]  1 of 1 completed\n",
      "[*********************100%%**********************]  1 of 1 completed"
     ]
    },
    {
     "name": "stdout",
     "output_type": "stream",
     "text": [
      "Data saved for SBICARD.NS in large_cap\n",
      "Cleaned data saved for large_cap/SBICARD.NS_stock_data.csv\n",
      "Data saved for BPCL.NS in large_cap\n"
     ]
    },
    {
     "name": "stderr",
     "output_type": "stream",
     "text": [
      "\n",
      "[*********************100%%**********************]  1 of 1 completed"
     ]
    },
    {
     "name": "stdout",
     "output_type": "stream",
     "text": [
      "Cleaned data saved for large_cap/BPCL.NS_stock_data.csv\n",
      "Data saved for ABB.NS in large_cap\n",
      "Cleaned data saved for large_cap/ABB.NS_stock_data.csv\n"
     ]
    },
    {
     "name": "stderr",
     "output_type": "stream",
     "text": [
      "\n",
      "[*********************100%%**********************]  1 of 1 completed\n",
      "[*********************100%%**********************]  1 of 1 completed"
     ]
    },
    {
     "name": "stdout",
     "output_type": "stream",
     "text": [
      "Data saved for CHOLAFIN.NS in large_cap\n",
      "Cleaned data saved for large_cap/CHOLAFIN.NS_stock_data.csv\n"
     ]
    },
    {
     "name": "stderr",
     "output_type": "stream",
     "text": [
      "\n",
      "[*********************100%%**********************]  1 of 1 completed"
     ]
    },
    {
     "name": "stdout",
     "output_type": "stream",
     "text": [
      "Data saved for BAJAJHLDNG.NS in large_cap\n",
      "Cleaned data saved for large_cap/BAJAJHLDNG.NS_stock_data.csv\n"
     ]
    },
    {
     "name": "stderr",
     "output_type": "stream",
     "text": [
      "\n",
      "[*********************100%%**********************]  1 of 1 completed"
     ]
    },
    {
     "name": "stdout",
     "output_type": "stream",
     "text": [
      "Data saved for TATACONSUM.NS in large_cap\n",
      "Cleaned data saved for large_cap/TATACONSUM.NS_stock_data.csv\n"
     ]
    },
    {
     "name": "stderr",
     "output_type": "stream",
     "text": [
      "\n"
     ]
    },
    {
     "name": "stdout",
     "output_type": "stream",
     "text": [
      "Data saved for SRF.NS in large_cap\n",
      "Cleaned data saved for large_cap/SRF.NS_stock_data.csv\n"
     ]
    },
    {
     "name": "stderr",
     "output_type": "stream",
     "text": [
      "[*********************100%%**********************]  1 of 1 completed\n",
      "[*********************100%%**********************]  1 of 1 completed"
     ]
    },
    {
     "name": "stdout",
     "output_type": "stream",
     "text": [
      "Data saved for GAIL.NS in large_cap\n",
      "Cleaned data saved for large_cap/GAIL.NS_stock_data.csv\n"
     ]
    },
    {
     "name": "stderr",
     "output_type": "stream",
     "text": [
      "\n"
     ]
    },
    {
     "name": "stdout",
     "output_type": "stream",
     "text": [
      "Data saved for TATAPOWER.NS in large_cap\n",
      "Cleaned data saved for large_cap/TATAPOWER.NS_stock_data.csv\n"
     ]
    },
    {
     "name": "stderr",
     "output_type": "stream",
     "text": [
      "[*********************100%%**********************]  1 of 1 completed\n"
     ]
    },
    {
     "name": "stdout",
     "output_type": "stream",
     "text": [
      "Data saved for MARICO.NS in large_cap\n",
      "Cleaned data saved for large_cap/MARICO.NS_stock_data.csv\n"
     ]
    },
    {
     "name": "stderr",
     "output_type": "stream",
     "text": [
      "[*********************100%%**********************]  1 of 1 completed\n"
     ]
    },
    {
     "name": "stdout",
     "output_type": "stream",
     "text": [
      "Data saved for ICICIPRULI.NS in large_cap\n",
      "Cleaned data saved for large_cap/ICICIPRULI.NS_stock_data.csv\n"
     ]
    },
    {
     "name": "stderr",
     "output_type": "stream",
     "text": [
      "[*********************100%%**********************]  1 of 1 completed\n"
     ]
    },
    {
     "name": "stdout",
     "output_type": "stream",
     "text": [
      "Data saved for APOLLOHOSP.NS in large_cap\n",
      "Cleaned data saved for large_cap/APOLLOHOSP.NS_stock_data.csv\n"
     ]
    },
    {
     "name": "stderr",
     "output_type": "stream",
     "text": [
      "[*********************100%%**********************]  1 of 1 completed\n",
      "\n",
      "1 Failed download:\n",
      "['MANKIND.NS']: Exception(\"%ticker%: Data doesn't exist for startDate = 1483209000, endDate = 1609439400\")\n"
     ]
    },
    {
     "name": "stdout",
     "output_type": "stream",
     "text": [
      "No data available for MANKIND.NS in large_cap\n"
     ]
    },
    {
     "name": "stderr",
     "output_type": "stream",
     "text": [
      "[*********************100%%**********************]  1 of 1 completed\n",
      "\n",
      "1 Failed download:\n",
      "['UNITDSPR.NS']: Exception('%ticker%: No timezone found, symbol may be delisted')\n"
     ]
    },
    {
     "name": "stdout",
     "output_type": "stream",
     "text": [
      "No data available for UNITDSPR.NS in large_cap\n"
     ]
    },
    {
     "name": "stderr",
     "output_type": "stream",
     "text": [
      "[*********************100%%**********************]  1 of 1 completed\n"
     ]
    },
    {
     "name": "stdout",
     "output_type": "stream",
     "text": [
      "Data saved for BERGEPAINT.NS in large_cap\n",
      "Cleaned data saved for large_cap/BERGEPAINT.NS_stock_data.csv\n"
     ]
    },
    {
     "name": "stderr",
     "output_type": "stream",
     "text": [
      "[*********************100%%**********************]  1 of 1 completed\n"
     ]
    },
    {
     "name": "stdout",
     "output_type": "stream",
     "text": [
      "Data saved for JINDALSTEL.NS in large_cap\n",
      "Cleaned data saved for large_cap/JINDALSTEL.NS_stock_data.csv\n"
     ]
    },
    {
     "name": "stderr",
     "output_type": "stream",
     "text": [
      "[*********************100%%**********************]  1 of 1 completed\n",
      "\n",
      "1 Failed download:\n",
      "['AWL.NS']: Exception(\"%ticker%: Data doesn't exist for startDate = 1483209000, endDate = 1609439400\")\n"
     ]
    },
    {
     "name": "stdout",
     "output_type": "stream",
     "text": [
      "No data available for AWL.NS in large_cap\n"
     ]
    },
    {
     "name": "stderr",
     "output_type": "stream",
     "text": [
      "[*********************100%%**********************]  1 of 1 completed\n"
     ]
    },
    {
     "name": "stdout",
     "output_type": "stream",
     "text": [
      "Data saved for ICICIGI.NS in large_cap\n",
      "Cleaned data saved for large_cap/ICICIGI.NS_stock_data.csv\n"
     ]
    },
    {
     "name": "stderr",
     "output_type": "stream",
     "text": [
      "[*********************100%%**********************]  1 of 1 completed\n"
     ]
    },
    {
     "name": "stdout",
     "output_type": "stream",
     "text": [
      "Data saved for PNB.NS in large_cap\n",
      "Cleaned data saved for large_cap/PNB.NS_stock_data.csv\n"
     ]
    },
    {
     "name": "stderr",
     "output_type": "stream",
     "text": [
      "[*********************100%%**********************]  1 of 1 completed\n"
     ]
    },
    {
     "name": "stdout",
     "output_type": "stream",
     "text": [
      "Data saved for IDBI.NS in large_cap\n",
      "Cleaned data saved for large_cap/IDBI.NS_stock_data.csv\n"
     ]
    },
    {
     "name": "stderr",
     "output_type": "stream",
     "text": [
      "[*********************100%%**********************]  1 of 1 completed\n"
     ]
    },
    {
     "name": "stdout",
     "output_type": "stream",
     "text": [
      "Data saved for TORNTPHARM.NS in large_cap\n",
      "Cleaned data saved for large_cap/TORNTPHARM.NS_stock_data.csv\n"
     ]
    },
    {
     "name": "stderr",
     "output_type": "stream",
     "text": [
      "[*********************100%%**********************]  1 of 1 completed\n"
     ]
    },
    {
     "name": "stdout",
     "output_type": "stream",
     "text": [
      "Data saved for CANBK.NS in large_cap\n",
      "Cleaned data saved for large_cap/CANBK.NS_stock_data.csv\n"
     ]
    },
    {
     "name": "stderr",
     "output_type": "stream",
     "text": [
      "[*********************100%%**********************]  1 of 1 completed\n"
     ]
    },
    {
     "name": "stdout",
     "output_type": "stream",
     "text": [
      "Data saved for TVSMOTOR.NS in large_cap\n",
      "Cleaned data saved for large_cap/TVSMOTOR.NS_stock_data.csv\n"
     ]
    },
    {
     "name": "stderr",
     "output_type": "stream",
     "text": [
      "[*********************100%%**********************]  1 of 1 completed\n"
     ]
    },
    {
     "name": "stdout",
     "output_type": "stream",
     "text": [
      "Data saved for BOSCHLTD.NS in large_cap\n",
      "Cleaned data saved for large_cap/BOSCHLTD.NS_stock_data.csv\n"
     ]
    },
    {
     "name": "stderr",
     "output_type": "stream",
     "text": [
      "[*********************100%%**********************]  1 of 1 completed\n"
     ]
    },
    {
     "name": "stdout",
     "output_type": "stream",
     "text": [
      "Data saved for UPL.NS in large_cap\n",
      "Cleaned data saved for large_cap/UPL.NS_stock_data.csv\n"
     ]
    },
    {
     "name": "stderr",
     "output_type": "stream",
     "text": [
      "[*********************100%%**********************]  1 of 1 completed\n",
      "[*********************100%%**********************]  1 of 1 completed"
     ]
    },
    {
     "name": "stdout",
     "output_type": "stream",
     "text": [
      "Data saved for HEROMOTOCO.NS in large_cap\n",
      "Cleaned data saved for large_cap/HEROMOTOCO.NS_stock_data.csv\n"
     ]
    },
    {
     "name": "stderr",
     "output_type": "stream",
     "text": [
      "\n"
     ]
    },
    {
     "name": "stdout",
     "output_type": "stream",
     "text": [
      "Data saved for TIINDIA.NS in large_cap\n",
      "Cleaned data saved for large_cap/TIINDIA.NS_stock_data.csv\n"
     ]
    },
    {
     "name": "stderr",
     "output_type": "stream",
     "text": [
      "[*********************100%%**********************]  1 of 1 completed\n"
     ]
    },
    {
     "name": "stdout",
     "output_type": "stream",
     "text": [
      "Data saved for MOTHERSON.NS in large_cap\n",
      "Cleaned data saved for large_cap/MOTHERSON.NS_stock_data.csv\n"
     ]
    },
    {
     "name": "stderr",
     "output_type": "stream",
     "text": [
      "[*********************100%%**********************]  1 of 1 completed\n",
      "\n",
      "1 Failed download:\n",
      "['ZOMATO.NS']: Exception(\"%ticker%: Data doesn't exist for startDate = 1483209000, endDate = 1609439400\")\n",
      "[*********************100%%**********************]  1 of 1 completed\n"
     ]
    },
    {
     "name": "stdout",
     "output_type": "stream",
     "text": [
      "No data available for ZOMATO.NS in large_cap\n",
      "Data saved for IRCTC.NS in large_cap\n",
      "Cleaned data saved for large_cap/IRCTC.NS_stock_data.csv\n"
     ]
    },
    {
     "name": "stderr",
     "output_type": "stream",
     "text": [
      "[*********************100%%**********************]  1 of 1 completed\n"
     ]
    },
    {
     "name": "stdout",
     "output_type": "stream",
     "text": [
      "Data saved for PIIND.NS in large_cap\n",
      "Cleaned data saved for large_cap/PIIND.NS_stock_data.csv\n"
     ]
    },
    {
     "name": "stderr",
     "output_type": "stream",
     "text": [
      "[*********************100%%**********************]  1 of 1 completed\n"
     ]
    },
    {
     "name": "stdout",
     "output_type": "stream",
     "text": [
      "Data saved for TRENT.NS in large_cap\n",
      "Cleaned data saved for large_cap/TRENT.NS_stock_data.csv\n"
     ]
    },
    {
     "name": "stderr",
     "output_type": "stream",
     "text": [
      "[*********************100%%**********************]  1 of 1 completed\n"
     ]
    },
    {
     "name": "stdout",
     "output_type": "stream",
     "text": [
      "Data saved for ACC.NS in mid_cap\n",
      "Cleaned data saved for mid_cap/ACC.NS_stock_data.csv\n"
     ]
    },
    {
     "name": "stderr",
     "output_type": "stream",
     "text": [
      "[*********************100%%**********************]  1 of 1 completed\n",
      "\n",
      "1 Failed download:\n",
      "['APLAP.NS']: Exception('%ticker%: No timezone found, symbol may be delisted')\n"
     ]
    },
    {
     "name": "stdout",
     "output_type": "stream",
     "text": [
      "No data available for APLAP.NS in mid_cap\n"
     ]
    },
    {
     "name": "stderr",
     "output_type": "stream",
     "text": [
      "[*********************100%%**********************]  1 of 1 completed\n",
      "[*********************100%%**********************]  1 of 1 completed"
     ]
    },
    {
     "name": "stdout",
     "output_type": "stream",
     "text": [
      "Data saved for APOLLO.NS in mid_cap\n",
      "Cleaned data saved for mid_cap/APOLLO.NS_stock_data.csv\n"
     ]
    },
    {
     "name": "stderr",
     "output_type": "stream",
     "text": [
      "\n",
      "[*********************100%%**********************]  1 of 1 completed"
     ]
    },
    {
     "name": "stdout",
     "output_type": "stream",
     "text": [
      "Data saved for AUBANK.NS in mid_cap\n",
      "Cleaned data saved for mid_cap/AUBANK.NS_stock_data.csv\n",
      "Data saved for ABCAPITAL.NS in mid_cap\n"
     ]
    },
    {
     "name": "stderr",
     "output_type": "stream",
     "text": [
      "\n",
      "[*********************100%%**********************]  1 of 1 completed"
     ]
    },
    {
     "name": "stdout",
     "output_type": "stream",
     "text": [
      "Cleaned data saved for mid_cap/ABCAPITAL.NS_stock_data.csv\n",
      "Data saved for ABFRL.NS in mid_cap\n"
     ]
    },
    {
     "name": "stderr",
     "output_type": "stream",
     "text": [
      "\n",
      "[*********************100%%**********************]  1 of 1 completed"
     ]
    },
    {
     "name": "stdout",
     "output_type": "stream",
     "text": [
      "Cleaned data saved for mid_cap/ABFRL.NS_stock_data.csv\n",
      "Data saved for ALKEM.NS in mid_cap\n"
     ]
    },
    {
     "name": "stderr",
     "output_type": "stream",
     "text": [
      "\n",
      "[*********************100%%**********************]  1 of 1 completed"
     ]
    },
    {
     "name": "stdout",
     "output_type": "stream",
     "text": [
      "Cleaned data saved for mid_cap/ALKEM.NS_stock_data.csv\n",
      "Data saved for APOLLOTYRE.NS in mid_cap\n"
     ]
    },
    {
     "name": "stderr",
     "output_type": "stream",
     "text": [
      "\n",
      "[*********************100%%**********************]  1 of 1 completed"
     ]
    },
    {
     "name": "stdout",
     "output_type": "stream",
     "text": [
      "Cleaned data saved for mid_cap/APOLLOTYRE.NS_stock_data.csv\n",
      "Data saved for ASHOKLEY.NS in mid_cap\n"
     ]
    },
    {
     "name": "stderr",
     "output_type": "stream",
     "text": [
      "\n",
      "[*********************100%%**********************]  1 of 1 completed"
     ]
    },
    {
     "name": "stdout",
     "output_type": "stream",
     "text": [
      "Cleaned data saved for mid_cap/ASHOKLEY.NS_stock_data.csv\n",
      "Data saved for ASTRAL.NS in mid_cap\n",
      "Cleaned data saved for mid_cap/ASTRAL.NS_stock_data.csv\n"
     ]
    },
    {
     "name": "stderr",
     "output_type": "stream",
     "text": [
      "\n",
      "[*********************100%%**********************]  1 of 1 completed\n"
     ]
    },
    {
     "name": "stdout",
     "output_type": "stream",
     "text": [
      "Data saved for AUROPHARMA.NS in mid_cap\n",
      "Cleaned data saved for mid_cap/AUROPHARMA.NS_stock_data.csv\n"
     ]
    },
    {
     "name": "stderr",
     "output_type": "stream",
     "text": [
      "[*********************100%%**********************]  1 of 1 completed\n",
      "\n",
      "1 Failed download:\n",
      "['BSESENSEX.NS']: Exception('%ticker%: No timezone found, symbol may be delisted')\n"
     ]
    },
    {
     "name": "stdout",
     "output_type": "stream",
     "text": [
      "No data available for BSESENSEX.NS in mid_cap\n"
     ]
    },
    {
     "name": "stderr",
     "output_type": "stream",
     "text": [
      "[*********************100%%**********************]  1 of 1 completed\n",
      "[*********************100%%**********************]  1 of 1 completed"
     ]
    },
    {
     "name": "stdout",
     "output_type": "stream",
     "text": [
      "Data saved for BALKRISIND.NS in mid_cap\n",
      "Cleaned data saved for mid_cap/BALKRISIND.NS_stock_data.csv\n",
      "Data saved for BANDHANBNK.NS in mid_cap\n",
      "Cleaned data saved for mid_cap/BANDHANBNK.NS_stock_data.csv\n"
     ]
    },
    {
     "name": "stderr",
     "output_type": "stream",
     "text": [
      "\n",
      "[*********************100%%**********************]  1 of 1 completed\n"
     ]
    },
    {
     "name": "stdout",
     "output_type": "stream",
     "text": [
      "Data saved for BANKINDIA.NS in mid_cap\n",
      "Cleaned data saved for mid_cap/BANKINDIA.NS_stock_data.csv\n"
     ]
    },
    {
     "name": "stderr",
     "output_type": "stream",
     "text": [
      "[*********************100%%**********************]  1 of 1 completed\n",
      "[*********************100%%**********************]  1 of 1 completed"
     ]
    },
    {
     "name": "stdout",
     "output_type": "stream",
     "text": [
      "Data saved for MAHABANK.NS in mid_cap\n",
      "Cleaned data saved for mid_cap/MAHABANK.NS_stock_data.csv\n"
     ]
    },
    {
     "name": "stderr",
     "output_type": "stream",
     "text": [
      "\n"
     ]
    },
    {
     "name": "stdout",
     "output_type": "stream",
     "text": [
      "Data saved for BDL.NS in mid_cap\n",
      "Cleaned data saved for mid_cap/BDL.NS_stock_data.csv\n"
     ]
    },
    {
     "name": "stderr",
     "output_type": "stream",
     "text": [
      "[*********************100%%**********************]  1 of 1 completed\n"
     ]
    },
    {
     "name": "stdout",
     "output_type": "stream",
     "text": [
      "Data saved for BHARATFORG.NS in mid_cap\n",
      "Cleaned data saved for mid_cap/BHARATFORG.NS_stock_data.csv\n"
     ]
    },
    {
     "name": "stderr",
     "output_type": "stream",
     "text": [
      "[*********************100%%**********************]  1 of 1 completed\n"
     ]
    },
    {
     "name": "stdout",
     "output_type": "stream",
     "text": [
      "Data saved for BHEL.NS in mid_cap\n",
      "Cleaned data saved for mid_cap/BHEL.NS_stock_data.csv\n"
     ]
    },
    {
     "name": "stderr",
     "output_type": "stream",
     "text": [
      "[*********************100%%**********************]  1 of 1 completed\n",
      "[*********************100%%**********************]  1 of 1 completed"
     ]
    },
    {
     "name": "stdout",
     "output_type": "stream",
     "text": [
      "Data saved for BIOCON.NS in mid_cap\n",
      "Cleaned data saved for mid_cap/BIOCON.NS_stock_data.csv\n"
     ]
    },
    {
     "name": "stderr",
     "output_type": "stream",
     "text": [
      "\n",
      "[*********************100%%**********************]  1 of 1 completed"
     ]
    },
    {
     "name": "stdout",
     "output_type": "stream",
     "text": [
      "Data saved for CGPOWER.NS in mid_cap\n",
      "Cleaned data saved for mid_cap/CGPOWER.NS_stock_data.csv\n"
     ]
    },
    {
     "name": "stderr",
     "output_type": "stream",
     "text": [
      "\n",
      "[*********************100%%**********************]  1 of 1 completed"
     ]
    },
    {
     "name": "stdout",
     "output_type": "stream",
     "text": [
      "Data saved for COFORGE.NS in mid_cap\n",
      "Cleaned data saved for mid_cap/COFORGE.NS_stock_data.csv\n"
     ]
    },
    {
     "name": "stderr",
     "output_type": "stream",
     "text": [
      "\n",
      "[*********************100%%**********************]  1 of 1 completed\n"
     ]
    },
    {
     "name": "stdout",
     "output_type": "stream",
     "text": [
      "Data saved for CONCOR.NS in mid_cap\n",
      "Cleaned data saved for mid_cap/CONCOR.NS_stock_data.csv\n",
      "Data saved for CUMMINSIND.NS in mid_cap\n",
      "Cleaned data saved for mid_cap/CUMMINSIND.NS_stock_data.csv\n"
     ]
    },
    {
     "name": "stderr",
     "output_type": "stream",
     "text": [
      "[*********************100%%**********************]  1 of 1 completed\n"
     ]
    },
    {
     "name": "stdout",
     "output_type": "stream",
     "text": [
      "Data saved for DALBHARAT.NS in mid_cap\n",
      "Cleaned data saved for mid_cap/DALBHARAT.NS_stock_data.csv\n"
     ]
    },
    {
     "name": "stderr",
     "output_type": "stream",
     "text": [
      "[*********************100%%**********************]  1 of 1 completed\n"
     ]
    },
    {
     "name": "stdout",
     "output_type": "stream",
     "text": [
      "Data saved for DEEPAKNTR.NS in mid_cap\n",
      "Cleaned data saved for mid_cap/DEEPAKNTR.NS_stock_data.csv\n"
     ]
    },
    {
     "name": "stderr",
     "output_type": "stream",
     "text": [
      "[*********************100%%**********************]  1 of 1 completed\n",
      "\n",
      "1 Failed download:\n",
      "['DELHIVERY.NS']: Exception(\"%ticker%: Data doesn't exist for startDate = 1483209000, endDate = 1609439400\")\n"
     ]
    },
    {
     "name": "stdout",
     "output_type": "stream",
     "text": [
      "No data available for DELHIVERY.NS in mid_cap\n"
     ]
    },
    {
     "name": "stderr",
     "output_type": "stream",
     "text": [
      "[*********************100%%**********************]  1 of 1 completed\n",
      "\n",
      "1 Failed download:\n",
      "['DIXONLAL.NS']: Exception('%ticker%: No timezone found, symbol may be delisted')\n"
     ]
    },
    {
     "name": "stdout",
     "output_type": "stream",
     "text": [
      "No data available for DIXONLAL.NS in mid_cap\n"
     ]
    },
    {
     "name": "stderr",
     "output_type": "stream",
     "text": [
      "[*********************100%%**********************]  1 of 1 completed\n",
      "\n",
      "1 Failed download:\n",
      "['PATHOLABS.NS']: Exception('%ticker%: No timezone found, symbol may be delisted')\n"
     ]
    },
    {
     "name": "stdout",
     "output_type": "stream",
     "text": [
      "No data available for PATHOLABS.NS in mid_cap\n"
     ]
    },
    {
     "name": "stderr",
     "output_type": "stream",
     "text": [
      "[*********************100%%**********************]  1 of 1 completed\n"
     ]
    },
    {
     "name": "stdout",
     "output_type": "stream",
     "text": [
      "Data saved for ESCORTS.NS in mid_cap\n",
      "Cleaned data saved for mid_cap/ESCORTS.NS_stock_data.csv\n"
     ]
    },
    {
     "name": "stderr",
     "output_type": "stream",
     "text": [
      "[*********************100%%**********************]  1 of 1 completed\n",
      "\n",
      "1 Failed download:\n",
      "['NYKAA.NS']: Exception(\"%ticker%: Data doesn't exist for startDate = 1483209000, endDate = 1609439400\")\n"
     ]
    },
    {
     "name": "stdout",
     "output_type": "stream",
     "text": [
      "No data available for NYKAA.NS in mid_cap\n"
     ]
    },
    {
     "name": "stderr",
     "output_type": "stream",
     "text": [
      "[*********************100%%**********************]  1 of 1 completed\n"
     ]
    },
    {
     "name": "stdout",
     "output_type": "stream",
     "text": [
      "Data saved for FEDERALBNK.NS in mid_cap\n",
      "Cleaned data saved for mid_cap/FEDERALBNK.NS_stock_data.csv\n"
     ]
    },
    {
     "name": "stderr",
     "output_type": "stream",
     "text": [
      "[*********************100%%**********************]  1 of 1 completed\n",
      "[*********************100%%**********************]  1 of 1 completed"
     ]
    },
    {
     "name": "stdout",
     "output_type": "stream",
     "text": [
      "Data saved for FACT.NS in mid_cap\n",
      "Cleaned data saved for mid_cap/FACT.NS_stock_data.csv\n",
      "Data saved for FORTIS.NS in mid_cap\n"
     ]
    },
    {
     "name": "stderr",
     "output_type": "stream",
     "text": [
      "\n",
      "[*********************100%%**********************]  1 of 1 completed"
     ]
    },
    {
     "name": "stdout",
     "output_type": "stream",
     "text": [
      "Cleaned data saved for mid_cap/FORTIS.NS_stock_data.csv\n",
      "Data saved for GMRINFRA.NS in mid_cap\n"
     ]
    },
    {
     "name": "stderr",
     "output_type": "stream",
     "text": [
      "\n",
      "[*********************100%%**********************]  1 of 1 completed"
     ]
    },
    {
     "name": "stdout",
     "output_type": "stream",
     "text": [
      "Cleaned data saved for mid_cap/GMRINFRA.NS_stock_data.csv\n",
      "Data saved for GLAND.NS in mid_cap\n",
      "Cleaned data saved for mid_cap/GLAND.NS_stock_data.csv\n"
     ]
    },
    {
     "name": "stderr",
     "output_type": "stream",
     "text": [
      "\n",
      "[*********************100%%**********************]  1 of 1 completed\n",
      "[*********************100%%**********************]  1 of 1 completed"
     ]
    },
    {
     "name": "stdout",
     "output_type": "stream",
     "text": [
      "Data saved for GODREJPROP.NS in mid_cap\n",
      "Cleaned data saved for mid_cap/GODREJPROP.NS_stock_data.csv\n"
     ]
    },
    {
     "name": "stderr",
     "output_type": "stream",
     "text": [
      "\n",
      "[*********************100%%**********************]  1 of 1 completed\n"
     ]
    },
    {
     "name": "stdout",
     "output_type": "stream",
     "text": [
      "Data saved for GUJGASLTD.NS in mid_cap\n",
      "Cleaned data saved for mid_cap/GUJGASLTD.NS_stock_data.csv\n",
      "Data saved for HDFCAMC.NS in mid_cap\n",
      "Cleaned data saved for mid_cap/HDFCAMC.NS_stock_data.csv\n"
     ]
    },
    {
     "name": "stderr",
     "output_type": "stream",
     "text": [
      "[*********************100%%**********************]  1 of 1 completed\n",
      "[*********************100%%**********************]  1 of 1 completed\n"
     ]
    },
    {
     "name": "stdout",
     "output_type": "stream",
     "text": [
      "Data saved for HINDPETRO.NS in mid_cap\n",
      "Cleaned data saved for mid_cap/HINDPETRO.NS_stock_data.csv\n",
      "Data saved for IDBI.NS in mid_cap\n",
      "Cleaned data saved for mid_cap/IDBI.NS_stock_data.csv\n"
     ]
    },
    {
     "name": "stderr",
     "output_type": "stream",
     "text": [
      "[*********************100%%**********************]  1 of 1 completed\n"
     ]
    },
    {
     "name": "stdout",
     "output_type": "stream",
     "text": [
      "Data saved for IDFCFIRSTB.NS in mid_cap\n",
      "Cleaned data saved for mid_cap/IDFCFIRSTB.NS_stock_data.csv\n"
     ]
    },
    {
     "name": "stderr",
     "output_type": "stream",
     "text": [
      "[*********************100%%**********************]  1 of 1 completed\n"
     ]
    },
    {
     "name": "stdout",
     "output_type": "stream",
     "text": [
      "Data saved for INDIANB.NS in mid_cap\n",
      "Cleaned data saved for mid_cap/INDIANB.NS_stock_data.csv\n"
     ]
    },
    {
     "name": "stderr",
     "output_type": "stream",
     "text": [
      "[*********************100%%**********************]  1 of 1 completed\n"
     ]
    },
    {
     "name": "stdout",
     "output_type": "stream",
     "text": [
      "Data saved for INDHOTEL.NS in mid_cap\n",
      "Cleaned data saved for mid_cap/INDHOTEL.NS_stock_data.csv\n"
     ]
    },
    {
     "name": "stderr",
     "output_type": "stream",
     "text": [
      "[*********************100%%**********************]  1 of 1 completed\n"
     ]
    },
    {
     "name": "stdout",
     "output_type": "stream",
     "text": [
      "Data saved for IGL.NS in mid_cap\n",
      "Cleaned data saved for mid_cap/IGL.NS_stock_data.csv\n"
     ]
    },
    {
     "name": "stderr",
     "output_type": "stream",
     "text": [
      "[*********************100%%**********************]  1 of 1 completed\n"
     ]
    },
    {
     "name": "stdout",
     "output_type": "stream",
     "text": [
      "Data saved for INDUSTOWER.NS in mid_cap\n",
      "Cleaned data saved for mid_cap/INDUSTOWER.NS_stock_data.csv\n"
     ]
    },
    {
     "name": "stderr",
     "output_type": "stream",
     "text": [
      "[*********************100%%**********************]  1 of 1 completed\n"
     ]
    },
    {
     "name": "stdout",
     "output_type": "stream",
     "text": [
      "Data saved for IPCALAB.NS in mid_cap\n",
      "Cleaned data saved for mid_cap/IPCALAB.NS_stock_data.csv\n"
     ]
    },
    {
     "name": "stderr",
     "output_type": "stream",
     "text": [
      "[*********************100%%**********************]  1 of 1 completed\n"
     ]
    },
    {
     "name": "stdout",
     "output_type": "stream",
     "text": [
      "Data saved for JSWENERGY.NS in mid_cap\n",
      "Cleaned data saved for mid_cap/JSWENERGY.NS_stock_data.csv\n"
     ]
    },
    {
     "name": "stderr",
     "output_type": "stream",
     "text": [
      "[*********************100%%**********************]  1 of 1 completed\n",
      "\n",
      "1 Failed download:\n",
      "['JSWINFRA.NS']: Exception(\"%ticker%: Data doesn't exist for startDate = 1483209000, endDate = 1609439400\")\n"
     ]
    },
    {
     "name": "stdout",
     "output_type": "stream",
     "text": [
      "No data available for JSWINFRA.NS in mid_cap\n"
     ]
    },
    {
     "name": "stderr",
     "output_type": "stream",
     "text": [
      "[*********************100%%**********************]  1 of 1 completed\n"
     ]
    },
    {
     "name": "stdout",
     "output_type": "stream",
     "text": [
      "Data saved for JUBLFOOD.NS in mid_cap\n",
      "Cleaned data saved for mid_cap/JUBLFOOD.NS_stock_data.csv\n"
     ]
    },
    {
     "name": "stderr",
     "output_type": "stream",
     "text": [
      "[*********************100%%**********************]  1 of 1 completed\n"
     ]
    },
    {
     "name": "stdout",
     "output_type": "stream",
     "text": [
      "Data saved for KPITTECH.NS in mid_cap\n",
      "Cleaned data saved for mid_cap/KPITTECH.NS_stock_data.csv\n"
     ]
    },
    {
     "name": "stderr",
     "output_type": "stream",
     "text": [
      "[*********************100%%**********************]  1 of 1 completed\n",
      "\n",
      "1 Failed download:\n",
      "['KALYANMLY.NS']: Exception('%ticker%: No timezone found, symbol may be delisted')\n"
     ]
    },
    {
     "name": "stdout",
     "output_type": "stream",
     "text": [
      "No data available for KALYANMLY.NS in mid_cap\n"
     ]
    },
    {
     "name": "stderr",
     "output_type": "stream",
     "text": [
      "[*********************100%%**********************]  1 of 1 completed\n",
      "\n",
      "1 Failed download:\n",
      "['KPIT.NS']: Exception('%ticker%: No timezone found, symbol may be delisted')\n"
     ]
    },
    {
     "name": "stdout",
     "output_type": "stream",
     "text": [
      "No data available for KPIT.NS in mid_cap\n"
     ]
    },
    {
     "name": "stderr",
     "output_type": "stream",
     "text": [
      "[*********************100%%**********************]  1 of 1 completed\n",
      "\n",
      "1 Failed download:\n",
      "['LTI.NS']: Exception('%ticker%: No timezone found, symbol may be delisted')\n"
     ]
    },
    {
     "name": "stdout",
     "output_type": "stream",
     "text": [
      "No data available for LTI.NS in mid_cap\n"
     ]
    },
    {
     "name": "stderr",
     "output_type": "stream",
     "text": [
      "[*********************100%%**********************]  1 of 1 completed\n"
     ]
    },
    {
     "name": "stdout",
     "output_type": "stream",
     "text": [
      "Data saved for LT.NS in mid_cap\n",
      "Cleaned data saved for mid_cap/LT.NS_stock_data.csv\n"
     ]
    },
    {
     "name": "stderr",
     "output_type": "stream",
     "text": [
      "[*********************100%%**********************]  1 of 1 completed\n"
     ]
    },
    {
     "name": "stdout",
     "output_type": "stream",
     "text": [
      "Data saved for LTTS.NS in mid_cap\n",
      "Cleaned data saved for mid_cap/LTTS.NS_stock_data.csv\n"
     ]
    },
    {
     "name": "stderr",
     "output_type": "stream",
     "text": [
      "[*********************100%%**********************]  1 of 1 completed\n",
      "\n",
      "1 Failed download:\n",
      "['LICI.NS']: Exception(\"%ticker%: Data doesn't exist for startDate = 1483209000, endDate = 1609439400\")\n"
     ]
    },
    {
     "name": "stdout",
     "output_type": "stream",
     "text": [
      "No data available for LICI.NS in mid_cap\n"
     ]
    },
    {
     "name": "stderr",
     "output_type": "stream",
     "text": [
      "[*********************100%%**********************]  1 of 1 completed\n",
      "\n",
      "1 Failed download:\n",
      "['HSGFIN.NS']: Exception('%ticker%: No timezone found, symbol may be delisted')\n"
     ]
    },
    {
     "name": "stdout",
     "output_type": "stream",
     "text": [
      "No data available for HSGFIN.NS in mid_cap\n"
     ]
    },
    {
     "name": "stderr",
     "output_type": "stream",
     "text": [
      "[*********************100%%**********************]  1 of 1 completed\n",
      "[*********************100%%**********************]  1 of 1 completed"
     ]
    },
    {
     "name": "stdout",
     "output_type": "stream",
     "text": [
      "Data saved for LAURUSLABS.NS in mid_cap\n",
      "Cleaned data saved for mid_cap/LAURUSLABS.NS_stock_data.csv\n"
     ]
    },
    {
     "name": "stderr",
     "output_type": "stream",
     "text": [
      "\n",
      "[*********************100%%**********************]  1 of 1 completed"
     ]
    },
    {
     "name": "stdout",
     "output_type": "stream",
     "text": [
      "Data saved for LUPIN.NS in mid_cap\n",
      "Cleaned data saved for mid_cap/LUPIN.NS_stock_data.csv\n"
     ]
    },
    {
     "name": "stderr",
     "output_type": "stream",
     "text": [
      "\n"
     ]
    },
    {
     "name": "stdout",
     "output_type": "stream",
     "text": [
      "Data saved for MRF.NS in mid_cap\n",
      "Cleaned data saved for mid_cap/MRF.NS_stock_data.csv\n"
     ]
    },
    {
     "name": "stderr",
     "output_type": "stream",
     "text": [
      "[*********************100%%**********************]  1 of 1 completed\n",
      "\n",
      "1 Failed download:\n",
      "['LODHA.NS']: Exception(\"%ticker%: Data doesn't exist for startDate = 1483209000, endDate = 1609439400\")\n"
     ]
    },
    {
     "name": "stdout",
     "output_type": "stream",
     "text": [
      "No data available for LODHA.NS in mid_cap\n"
     ]
    },
    {
     "name": "stderr",
     "output_type": "stream",
     "text": [
      "[*********************100%%**********************]  1 of 1 completed\n"
     ]
    },
    {
     "name": "stdout",
     "output_type": "stream",
     "text": [
      "Data saved for M&MFIN.NS in mid_cap\n",
      "Cleaned data saved for mid_cap/M&MFIN.NS_stock_data.csv\n"
     ]
    },
    {
     "name": "stderr",
     "output_type": "stream",
     "text": [
      "[*********************100%%**********************]  1 of 1 completed\n",
      "\n",
      "1 Failed download:\n",
      "['MANKIND.NS']: Exception(\"%ticker%: Data doesn't exist for startDate = 1483209000, endDate = 1609439400\")\n"
     ]
    },
    {
     "name": "stdout",
     "output_type": "stream",
     "text": [
      "No data available for MANKIND.NS in mid_cap\n"
     ]
    },
    {
     "name": "stderr",
     "output_type": "stream",
     "text": [
      "[*********************100%%**********************]  1 of 1 completed\n",
      "[*********************100%%**********************]  1 of 1 completed"
     ]
    },
    {
     "name": "stdout",
     "output_type": "stream",
     "text": [
      "Data saved for MFSL.NS in mid_cap\n",
      "Cleaned data saved for mid_cap/MFSL.NS_stock_data.csv\n",
      "Data saved for MAXHEALTH.NS in mid_cap\n",
      "Cleaned data saved for mid_cap/MAXHEALTH.NS_stock_data.csv\n"
     ]
    },
    {
     "name": "stderr",
     "output_type": "stream",
     "text": [
      "\n",
      "[*********************100%%**********************]  1 of 1 completed\n"
     ]
    },
    {
     "name": "stdout",
     "output_type": "stream",
     "text": [
      "Data saved for MAZDOCK.NS in mid_cap\n",
      "Cleaned data saved for mid_cap/MAZDOCK.NS_stock_data.csv\n"
     ]
    },
    {
     "name": "stderr",
     "output_type": "stream",
     "text": [
      "[*********************100%%**********************]  1 of 1 completed\n"
     ]
    },
    {
     "name": "stdout",
     "output_type": "stream",
     "text": [
      "Data saved for MPHASIS.NS in mid_cap\n",
      "Cleaned data saved for mid_cap/MPHASIS.NS_stock_data.csv\n"
     ]
    },
    {
     "name": "stderr",
     "output_type": "stream",
     "text": [
      "[*********************100%%**********************]  1 of 1 completed\n"
     ]
    },
    {
     "name": "stdout",
     "output_type": "stream",
     "text": [
      "Data saved for NHPC.NS in mid_cap\n",
      "Cleaned data saved for mid_cap/NHPC.NS_stock_data.csv\n"
     ]
    },
    {
     "name": "stderr",
     "output_type": "stream",
     "text": [
      "[*********************100%%**********************]  1 of 1 completed\n"
     ]
    },
    {
     "name": "stdout",
     "output_type": "stream",
     "text": [
      "Data saved for NMDC.NS in mid_cap\n",
      "Cleaned data saved for mid_cap/NMDC.NS_stock_data.csv\n"
     ]
    },
    {
     "name": "stderr",
     "output_type": "stream",
     "text": [
      "[*********************100%%**********************]  1 of 1 completed\n"
     ]
    },
    {
     "name": "stdout",
     "output_type": "stream",
     "text": [
      "Data saved for OBEROIRLTY.NS in mid_cap\n",
      "Cleaned data saved for mid_cap/OBEROIRLTY.NS_stock_data.csv\n"
     ]
    },
    {
     "name": "stderr",
     "output_type": "stream",
     "text": [
      "[*********************100%%**********************]  1 of 1 completed\n"
     ]
    },
    {
     "name": "stdout",
     "output_type": "stream",
     "text": [
      "Data saved for OIL.NS in mid_cap\n",
      "Cleaned data saved for mid_cap/OIL.NS_stock_data.csv\n"
     ]
    },
    {
     "name": "stderr",
     "output_type": "stream",
     "text": [
      "[*********************100%%**********************]  1 of 1 completed\n",
      "\n",
      "1 Failed download:\n",
      "['PAYTM.NS']: Exception(\"%ticker%: Data doesn't exist for startDate = 1483209000, endDate = 1609439400\")\n"
     ]
    },
    {
     "name": "stdout",
     "output_type": "stream",
     "text": [
      "No data available for PAYTM.NS in mid_cap\n"
     ]
    },
    {
     "name": "stderr",
     "output_type": "stream",
     "text": [
      "[*********************100%%**********************]  1 of 1 completed\n"
     ]
    },
    {
     "name": "stdout",
     "output_type": "stream",
     "text": [
      "Data saved for OFSS.NS in mid_cap\n",
      "Cleaned data saved for mid_cap/OFSS.NS_stock_data.csv\n"
     ]
    },
    {
     "name": "stderr",
     "output_type": "stream",
     "text": [
      "[*********************100%%**********************]  1 of 1 completed\n",
      "\n",
      "1 Failed download:\n",
      "['POLICYBZR.NS']: Exception(\"%ticker%: Data doesn't exist for startDate = 1483209000, endDate = 1609439400\")\n"
     ]
    },
    {
     "name": "stdout",
     "output_type": "stream",
     "text": [
      "No data available for POLICYBZR.NS in mid_cap\n"
     ]
    },
    {
     "name": "stderr",
     "output_type": "stream",
     "text": [
      "[*********************100%%**********************]  1 of 1 completed\n"
     ]
    },
    {
     "name": "stdout",
     "output_type": "stream",
     "text": [
      "Data saved for PIIND.NS in mid_cap\n",
      "Cleaned data saved for mid_cap/PIIND.NS_stock_data.csv\n"
     ]
    },
    {
     "name": "stderr",
     "output_type": "stream",
     "text": [
      "[*********************100%%**********************]  1 of 1 completed\n"
     ]
    },
    {
     "name": "stdout",
     "output_type": "stream",
     "text": [
      "Data saved for PAGEIND.NS in mid_cap\n",
      "Cleaned data saved for mid_cap/PAGEIND.NS_stock_data.csv\n"
     ]
    },
    {
     "name": "stderr",
     "output_type": "stream",
     "text": [
      "[*********************100%%**********************]  1 of 1 completed\n"
     ]
    },
    {
     "name": "stdout",
     "output_type": "stream",
     "text": [
      "Data saved for PATANJALI.NS in mid_cap\n",
      "Cleaned data saved for mid_cap/PATANJALI.NS_stock_data.csv\n"
     ]
    },
    {
     "name": "stderr",
     "output_type": "stream",
     "text": [
      "[*********************100%%**********************]  1 of 1 completed\n"
     ]
    },
    {
     "name": "stdout",
     "output_type": "stream",
     "text": [
      "Data saved for PERSISTENT.NS in mid_cap\n",
      "Cleaned data saved for mid_cap/PERSISTENT.NS_stock_data.csv\n"
     ]
    },
    {
     "name": "stderr",
     "output_type": "stream",
     "text": [
      "[*********************100%%**********************]  1 of 1 completed\n"
     ]
    },
    {
     "name": "stdout",
     "output_type": "stream",
     "text": [
      "Data saved for PETRONET.NS in mid_cap\n",
      "Cleaned data saved for mid_cap/PETRONET.NS_stock_data.csv\n"
     ]
    },
    {
     "name": "stderr",
     "output_type": "stream",
     "text": [
      "[*********************100%%**********************]  1 of 1 completed\n",
      "[*********************100%%**********************]  1 of 1 completed"
     ]
    },
    {
     "name": "stdout",
     "output_type": "stream",
     "text": [
      "Data saved for PEL.NS in mid_cap\n",
      "Cleaned data saved for mid_cap/PEL.NS_stock_data.csv\n"
     ]
    },
    {
     "name": "stderr",
     "output_type": "stream",
     "text": [
      "\n"
     ]
    },
    {
     "name": "stdout",
     "output_type": "stream",
     "text": [
      "Data saved for POLYCAB.NS in mid_cap\n",
      "Cleaned data saved for mid_cap/POLYCAB.NS_stock_data.csv\n"
     ]
    },
    {
     "name": "stderr",
     "output_type": "stream",
     "text": [
      "[*********************100%%**********************]  1 of 1 completed\n"
     ]
    },
    {
     "name": "stdout",
     "output_type": "stream",
     "text": [
      "Data saved for POONAWALLA.NS in mid_cap\n",
      "Cleaned data saved for mid_cap/POONAWALLA.NS_stock_data.csv\n"
     ]
    },
    {
     "name": "stderr",
     "output_type": "stream",
     "text": [
      "[*********************100%%**********************]  1 of 1 completed\n"
     ]
    },
    {
     "name": "stdout",
     "output_type": "stream",
     "text": [
      "Data saved for PRESTIGE.NS in mid_cap\n"
     ]
    },
    {
     "name": "stderr",
     "output_type": "stream",
     "text": [
      "[*********************100%%**********************]  1 of 1 completed"
     ]
    },
    {
     "name": "stdout",
     "output_type": "stream",
     "text": [
      "Cleaned data saved for mid_cap/PRESTIGE.NS_stock_data.csv\n",
      "Data saved for RVNL.NS in mid_cap\n"
     ]
    },
    {
     "name": "stderr",
     "output_type": "stream",
     "text": [
      "\n"
     ]
    },
    {
     "name": "stdout",
     "output_type": "stream",
     "text": [
      "Cleaned data saved for mid_cap/RVNL.NS_stock_data.csv\n"
     ]
    },
    {
     "name": "stderr",
     "output_type": "stream",
     "text": [
      "[*********************100%%**********************]  1 of 1 completed\n"
     ]
    },
    {
     "name": "stdout",
     "output_type": "stream",
     "text": [
      "Data saved for SJVN.NS in mid_cap\n",
      "Cleaned data saved for mid_cap/SJVN.NS_stock_data.csv\n"
     ]
    },
    {
     "name": "stderr",
     "output_type": "stream",
     "text": [
      "[*********************100%%**********************]  1 of 1 completed\n",
      "\n",
      "1 Failed download:\n",
      "['SONACOMS.NS']: Exception(\"%ticker%: Data doesn't exist for startDate = 1483209000, endDate = 1609439400\")\n"
     ]
    },
    {
     "name": "stdout",
     "output_type": "stream",
     "text": [
      "No data available for SONACOMS.NS in mid_cap\n"
     ]
    },
    {
     "name": "stderr",
     "output_type": "stream",
     "text": [
      "[*********************100%%**********************]  1 of 1 completed\n"
     ]
    },
    {
     "name": "stdout",
     "output_type": "stream",
     "text": [
      "Data saved for SAIL.NS in mid_cap\n",
      "Cleaned data saved for mid_cap/SAIL.NS_stock_data.csv\n"
     ]
    },
    {
     "name": "stderr",
     "output_type": "stream",
     "text": [
      "[*********************100%%**********************]  1 of 1 completed\n"
     ]
    },
    {
     "name": "stdout",
     "output_type": "stream",
     "text": [
      "Data saved for SUNTV.NS in mid_cap\n",
      "Cleaned data saved for mid_cap/SUNTV.NS_stock_data.csv\n"
     ]
    },
    {
     "name": "stderr",
     "output_type": "stream",
     "text": [
      "[*********************100%%**********************]  1 of 1 completed\n"
     ]
    },
    {
     "name": "stdout",
     "output_type": "stream",
     "text": [
      "Data saved for SUPREMEIND.NS in mid_cap\n",
      "Cleaned data saved for mid_cap/SUPREMEIND.NS_stock_data.csv\n"
     ]
    },
    {
     "name": "stderr",
     "output_type": "stream",
     "text": [
      "[*********************100%%**********************]  1 of 1 completed\n"
     ]
    },
    {
     "name": "stdout",
     "output_type": "stream",
     "text": [
      "Data saved for SUZLON.NS in mid_cap\n",
      "Cleaned data saved for mid_cap/SUZLON.NS_stock_data.csv\n"
     ]
    },
    {
     "name": "stderr",
     "output_type": "stream",
     "text": [
      "[*********************100%%**********************]  1 of 1 completed\n"
     ]
    },
    {
     "name": "stdout",
     "output_type": "stream",
     "text": [
      "Data saved for SYNGENE.NS in mid_cap\n",
      "Cleaned data saved for mid_cap/SYNGENE.NS_stock_data.csv\n"
     ]
    },
    {
     "name": "stderr",
     "output_type": "stream",
     "text": [
      "[*********************100%%**********************]  1 of 1 completed\n"
     ]
    },
    {
     "name": "stdout",
     "output_type": "stream",
     "text": [
      "Data saved for TATACHEM.NS in mid_cap\n",
      "Cleaned data saved for mid_cap/TATACHEM.NS_stock_data.csv\n"
     ]
    },
    {
     "name": "stderr",
     "output_type": "stream",
     "text": [
      "[*********************100%%**********************]  1 of 1 completed\n"
     ]
    },
    {
     "name": "stdout",
     "output_type": "stream",
     "text": [
      "Data saved for TATACOMM.NS in mid_cap\n",
      "Cleaned data saved for mid_cap/TATACOMM.NS_stock_data.csv\n"
     ]
    },
    {
     "name": "stderr",
     "output_type": "stream",
     "text": [
      "[*********************100%%**********************]  1 of 1 completed\n"
     ]
    },
    {
     "name": "stdout",
     "output_type": "stream",
     "text": [
      "Data saved for TATAELXSI.NS in mid_cap\n",
      "Cleaned data saved for mid_cap/TATAELXSI.NS_stock_data.csv\n"
     ]
    },
    {
     "name": "stderr",
     "output_type": "stream",
     "text": [
      "[*********************100%%**********************]  1 of 1 completed\n",
      "\n",
      "1 Failed download:\n",
      "['TATATECH.NS']: Exception(\"%ticker%: Data doesn't exist for startDate = 1483209000, endDate = 1609439400\")\n"
     ]
    },
    {
     "name": "stdout",
     "output_type": "stream",
     "text": [
      "No data available for TATATECH.NS in mid_cap\n"
     ]
    },
    {
     "name": "stderr",
     "output_type": "stream",
     "text": [
      "[*********************100%%**********************]  1 of 1 completed\n"
     ]
    },
    {
     "name": "stdout",
     "output_type": "stream",
     "text": [
      "Data saved for TORNTPOWER.NS in mid_cap\n",
      "Cleaned data saved for mid_cap/TORNTPOWER.NS_stock_data.csv\n"
     ]
    },
    {
     "name": "stderr",
     "output_type": "stream",
     "text": [
      "[*********************100%%**********************]  1 of 1 completed\n"
     ]
    },
    {
     "name": "stdout",
     "output_type": "stream",
     "text": [
      "Data saved for TIINDIA.NS in mid_cap\n",
      "Cleaned data saved for mid_cap/TIINDIA.NS_stock_data.csv\n"
     ]
    },
    {
     "name": "stderr",
     "output_type": "stream",
     "text": [
      "[*********************100%%**********************]  1 of 1 completed\n"
     ]
    },
    {
     "name": "stdout",
     "output_type": "stream",
     "text": [
      "Data saved for UPL.NS in mid_cap\n",
      "Cleaned data saved for mid_cap/UPL.NS_stock_data.csv\n"
     ]
    },
    {
     "name": "stderr",
     "output_type": "stream",
     "text": [
      "[*********************100%%**********************]  1 of 1 completed\n"
     ]
    },
    {
     "name": "stdout",
     "output_type": "stream",
     "text": [
      "Data saved for UNIONBANK.NS in mid_cap\n",
      "Cleaned data saved for mid_cap/UNIONBANK.NS_stock_data.csv\n"
     ]
    },
    {
     "name": "stderr",
     "output_type": "stream",
     "text": [
      "[*********************100%%**********************]  1 of 1 completed\n"
     ]
    },
    {
     "name": "stdout",
     "output_type": "stream",
     "text": [
      "Data saved for IDEA.NS in mid_cap\n",
      "Cleaned data saved for mid_cap/IDEA.NS_stock_data.csv\n"
     ]
    },
    {
     "name": "stderr",
     "output_type": "stream",
     "text": [
      "[*********************100%%**********************]  1 of 1 completed\n"
     ]
    },
    {
     "name": "stdout",
     "output_type": "stream",
     "text": [
      "Data saved for VOLTAS.NS in mid_cap\n",
      "Cleaned data saved for mid_cap/VOLTAS.NS_stock_data.csv\n"
     ]
    },
    {
     "name": "stderr",
     "output_type": "stream",
     "text": [
      "[*********************100%%**********************]  1 of 1 completed\n"
     ]
    },
    {
     "name": "stdout",
     "output_type": "stream",
     "text": [
      "Data saved for YESBANK.NS in mid_cap\n",
      "Cleaned data saved for mid_cap/YESBANK.NS_stock_data.csv\n"
     ]
    },
    {
     "name": "stderr",
     "output_type": "stream",
     "text": [
      "[*********************100%%**********************]  1 of 1 completed\n"
     ]
    },
    {
     "name": "stdout",
     "output_type": "stream",
     "text": [
      "Data saved for ZEEL.NS in mid_cap\n",
      "Cleaned data saved for mid_cap/ZEEL.NS_stock_data.csv\n"
     ]
    },
    {
     "name": "stderr",
     "output_type": "stream",
     "text": [
      "[*********************100%%**********************]  1 of 1 completed\n"
     ]
    },
    {
     "name": "stdout",
     "output_type": "stream",
     "text": [
      "Data saved for AARTIIND.NS in small_cap\n",
      "Cleaned data saved for small_cap/AARTIIND.NS_stock_data.csv\n"
     ]
    },
    {
     "name": "stderr",
     "output_type": "stream",
     "text": [
      "[*********************100%%**********************]  1 of 1 completed\n",
      "[*********************100%%**********************]  1 of 1 completed"
     ]
    },
    {
     "name": "stdout",
     "output_type": "stream",
     "text": [
      "Data saved for AAVAS.NS in small_cap\n",
      "Cleaned data saved for small_cap/AAVAS.NS_stock_data.csv\n"
     ]
    },
    {
     "name": "stderr",
     "output_type": "stream",
     "text": [
      "\n"
     ]
    },
    {
     "name": "stdout",
     "output_type": "stream",
     "text": [
      "Data saved for AFFLE.NS in small_cap\n",
      "Cleaned data saved for small_cap/AFFLE.NS_stock_data.csv\n"
     ]
    },
    {
     "name": "stderr",
     "output_type": "stream",
     "text": [
      "[*********************100%%**********************]  1 of 1 completed\n",
      "\n",
      "1 Failed download:\n",
      "['ALOKINDST.NS']: Exception('%ticker%: No timezone found, symbol may be delisted')\n"
     ]
    },
    {
     "name": "stdout",
     "output_type": "stream",
     "text": [
      "No data available for ALOKINDST.NS in small_cap\n"
     ]
    },
    {
     "name": "stderr",
     "output_type": "stream",
     "text": [
      "[*********************100%%**********************]  1 of 1 completed\n",
      "\n",
      "1 Failed download:\n",
      "['AREARMAAM.NS']: Exception('%ticker%: No timezone found, symbol may be delisted')\n"
     ]
    },
    {
     "name": "stdout",
     "output_type": "stream",
     "text": [
      "No data available for AREARMAAM.NS in small_cap\n"
     ]
    },
    {
     "name": "stderr",
     "output_type": "stream",
     "text": [
      "[*********************100%%**********************]  1 of 1 completed\n",
      "\n",
      "1 Failed download:\n",
      "['AMBERANGELONE.NS']: Exception('%ticker%: No timezone found, symbol may be delisted')\n"
     ]
    },
    {
     "name": "stdout",
     "output_type": "stream",
     "text": [
      "No data available for AMBERANGELONE.NS in small_cap\n"
     ]
    },
    {
     "name": "stderr",
     "output_type": "stream",
     "text": [
      "[*********************100%%**********************]  1 of 1 completed\n"
     ]
    },
    {
     "name": "stdout",
     "output_type": "stream",
     "text": [
      "Data saved for APARINDS.NS in small_cap\n",
      "Cleaned data saved for small_cap/APARINDS.NS_stock_data.csv\n"
     ]
    },
    {
     "name": "stderr",
     "output_type": "stream",
     "text": [
      "[*********************100%%**********************]  1 of 1 completed\n",
      "\n",
      "1 Failed download:\n",
      "['BLSBLSWHT.NS']: Exception('%ticker%: No timezone found, symbol may be delisted')\n"
     ]
    },
    {
     "name": "stdout",
     "output_type": "stream",
     "text": [
      "No data available for BLSBLSWHT.NS in small_cap\n"
     ]
    },
    {
     "name": "stderr",
     "output_type": "stream",
     "text": [
      "[*********************100%%**********************]  1 of 1 completed\n"
     ]
    },
    {
     "name": "stdout",
     "output_type": "stream",
     "text": [
      "Data saved for BSOFT.NS in small_cap\n",
      "Cleaned data saved for small_cap/BSOFT.NS_stock_data.csv\n"
     ]
    },
    {
     "name": "stderr",
     "output_type": "stream",
     "text": [
      "[*********************100%%**********************]  1 of 1 completed\n"
     ]
    },
    {
     "name": "stdout",
     "output_type": "stream",
     "text": [
      "Data saved for BLUESTARCO.NS in small_cap\n",
      "Cleaned data saved for small_cap/BLUESTARCO.NS_stock_data.csv\n"
     ]
    },
    {
     "name": "stderr",
     "output_type": "stream",
     "text": [
      "[*********************100%%**********************]  1 of 1 completed\n"
     ]
    },
    {
     "name": "stdout",
     "output_type": "stream",
     "text": [
      "Data saved for CESC.NS in small_cap\n",
      "Cleaned data saved for small_cap/CESC.NS_stock_data.csv\n"
     ]
    },
    {
     "name": "stderr",
     "output_type": "stream",
     "text": [
      "[*********************100%%**********************]  1 of 1 completed\n",
      "\n",
      "1 Failed download:\n",
      "['CIEIND.NS']: Exception('%ticker%: No timezone found, symbol may be delisted')\n"
     ]
    },
    {
     "name": "stdout",
     "output_type": "stream",
     "text": [
      "No data available for CIEIND.NS in small_cap\n"
     ]
    },
    {
     "name": "stderr",
     "output_type": "stream",
     "text": [
      "[*********************100%%**********************]  1 of 1 completed\n"
     ]
    },
    {
     "name": "stdout",
     "output_type": "stream",
     "text": [
      "Data saved for CANFINHOME.NS in small_cap\n",
      "Cleaned data saved for small_cap/CANFINHOME.NS_stock_data.csv\n"
     ]
    },
    {
     "name": "stderr",
     "output_type": "stream",
     "text": [
      "[*********************100%%**********************]  1 of 1 completed\n"
     ]
    },
    {
     "name": "stdout",
     "output_type": "stream",
     "text": [
      "Data saved for CASTROLIND.NS in small_cap\n",
      "Cleaned data saved for small_cap/CASTROLIND.NS_stock_data.csv\n"
     ]
    },
    {
     "name": "stderr",
     "output_type": "stream",
     "text": [
      "[*********************100%%**********************]  1 of 1 completed\n",
      "[*********************100%%**********************]  1 of 1 completed"
     ]
    },
    {
     "name": "stdout",
     "output_type": "stream",
     "text": [
      "Data saved for CEATLTD.NS in small_cap\n",
      "Cleaned data saved for small_cap/CEATLTD.NS_stock_data.csv\n"
     ]
    },
    {
     "name": "stderr",
     "output_type": "stream",
     "text": [
      "\n"
     ]
    },
    {
     "name": "stdout",
     "output_type": "stream",
     "text": [
      "Data saved for CENTRALBK.NS in small_cap\n",
      "Cleaned data saved for small_cap/CENTRALBK.NS_stock_data.csv\n"
     ]
    },
    {
     "name": "stderr",
     "output_type": "stream",
     "text": [
      "[*********************100%%**********************]  1 of 1 completed\n"
     ]
    },
    {
     "name": "stdout",
     "output_type": "stream",
     "text": [
      "Data saved for CDSL.NS in small_cap\n",
      "Cleaned data saved for small_cap/CDSL.NS_stock_data.csv\n"
     ]
    },
    {
     "name": "stderr",
     "output_type": "stream",
     "text": [
      "[*********************100%%**********************]  1 of 1 completed\n"
     ]
    },
    {
     "name": "stdout",
     "output_type": "stream",
     "text": [
      "Data saved for CENTURYTEX.NS in small_cap\n",
      "Cleaned data saved for small_cap/CENTURYTEX.NS_stock_data.csv\n"
     ]
    },
    {
     "name": "stderr",
     "output_type": "stream",
     "text": [
      "[*********************100%%**********************]  1 of 1 completed\n"
     ]
    },
    {
     "name": "stdout",
     "output_type": "stream",
     "text": [
      "Data saved for CHAMBLFERT.NS in small_cap\n",
      "Cleaned data saved for small_cap/CHAMBLFERT.NS_stock_data.csv\n"
     ]
    },
    {
     "name": "stderr",
     "output_type": "stream",
     "text": [
      "[*********************100%%**********************]  1 of 1 completed\n",
      "\n",
      "1 Failed download:\n",
      "['CUBCOBR.NS']: Exception('%ticker%: No timezone found, symbol may be delisted')\n"
     ]
    },
    {
     "name": "stdout",
     "output_type": "stream",
     "text": [
      "No data available for CUBCOBR.NS in small_cap\n"
     ]
    },
    {
     "name": "stderr",
     "output_type": "stream",
     "text": [
      "[*********************100%%**********************]  1 of 1 completed\n",
      "\n",
      "1 Failed download:\n",
      "['CHINSHIPCC.NS']: Exception('%ticker%: No timezone found, symbol may be delisted')\n"
     ]
    },
    {
     "name": "stdout",
     "output_type": "stream",
     "text": [
      "No data available for CHINSHIPCC.NS in small_cap\n"
     ]
    },
    {
     "name": "stderr",
     "output_type": "stream",
     "text": [
      "[*********************100%%**********************]  1 of 1 completed\n",
      "\n",
      "1 Failed download:\n",
      "['AMSCMIX.NS']: Exception('%ticker%: No timezone found, symbol may be delisted')\n"
     ]
    },
    {
     "name": "stdout",
     "output_type": "stream",
     "text": [
      "No data available for AMSCMIX.NS in small_cap\n"
     ]
    },
    {
     "name": "stderr",
     "output_type": "stream",
     "text": [
      "[*********************100%%**********************]  1 of 1 completed\n"
     ]
    },
    {
     "name": "stdout",
     "output_type": "stream",
     "text": [
      "Data saved for CREDITACC.NS in small_cap\n",
      "Cleaned data saved for small_cap/CREDITACC.NS_stock_data.csv\n"
     ]
    },
    {
     "name": "stderr",
     "output_type": "stream",
     "text": [
      "[*********************100%%**********************]  1 of 1 completed\n"
     ]
    },
    {
     "name": "stdout",
     "output_type": "stream",
     "text": [
      "Data saved for CROMPTON.NS in small_cap\n",
      "Cleaned data saved for small_cap/CROMPTON.NS_stock_data.csv\n"
     ]
    },
    {
     "name": "stderr",
     "output_type": "stream",
     "text": [
      "[*********************100%%**********************]  1 of 1 completed\n"
     ]
    },
    {
     "name": "stdout",
     "output_type": "stream",
     "text": [
      "Data saved for CYIENT.NS in small_cap\n",
      "Cleaned data saved for small_cap/CYIENT.NS_stock_data.csv\n"
     ]
    },
    {
     "name": "stderr",
     "output_type": "stream",
     "text": [
      "[*********************100%%**********************]  1 of 1 completed\n",
      "\n",
      "1 Failed download:\n",
      "['DATAPATTNS.NS']: Exception(\"%ticker%: Data doesn't exist for startDate = 1483209000, endDate = 1609439400\")\n"
     ]
    },
    {
     "name": "stdout",
     "output_type": "stream",
     "text": [
      "No data available for DATAPATTNS.NS in small_cap\n"
     ]
    },
    {
     "name": "stderr",
     "output_type": "stream",
     "text": [
      "[*********************100%%**********************]  1 of 1 completed\n"
     ]
    },
    {
     "name": "stdout",
     "output_type": "stream",
     "text": [
      "Data saved for EQUITAS.NS in small_cap\n",
      "Cleaned data saved for small_cap/EQUITAS.NS_stock_data.csv\n"
     ]
    },
    {
     "name": "stderr",
     "output_type": "stream",
     "text": [
      "[*********************100%%**********************]  1 of 1 completed\n",
      "\n",
      "1 Failed download:\n",
      "['BNK.NS']: Exception('%ticker%: No timezone found, symbol may be delisted')\n"
     ]
    },
    {
     "name": "stdout",
     "output_type": "stream",
     "text": [
      "No data available for BNK.NS in small_cap\n"
     ]
    },
    {
     "name": "stderr",
     "output_type": "stream",
     "text": [
      "[*********************100%%**********************]  1 of 1 completed\n"
     ]
    },
    {
     "name": "stdout",
     "output_type": "stream",
     "text": [
      "Data saved for EXIDEIND.NS in small_cap\n",
      "Cleaned data saved for small_cap/EXIDEIND.NS_stock_data.csv\n"
     ]
    },
    {
     "name": "stderr",
     "output_type": "stream",
     "text": [
      "[*********************100%%**********************]  1 of 1 completed\n"
     ]
    },
    {
     "name": "stdout",
     "output_type": "stream",
     "text": [
      "Data saved for FINCABLES.NS in small_cap\n",
      "Cleaned data saved for small_cap/FINCABLES.NS_stock_data.csv\n"
     ]
    },
    {
     "name": "stderr",
     "output_type": "stream",
     "text": [
      "[*********************100%%**********************]  1 of 1 completed\n"
     ]
    },
    {
     "name": "stdout",
     "output_type": "stream",
     "text": [
      "Data saved for FSL.NS in small_cap\n",
      "Cleaned data saved for small_cap/FSL.NS_stock_data.csv\n"
     ]
    },
    {
     "name": "stderr",
     "output_type": "stream",
     "text": [
      "[*********************100%%**********************]  1 of 1 completed\n",
      "\n",
      "1 Failed download:\n",
      "['FIVESTAR.NS']: Exception(\"%ticker%: Data doesn't exist for startDate = 1483209000, endDate = 1609439400\")\n"
     ]
    },
    {
     "name": "stdout",
     "output_type": "stream",
     "text": [
      "No data available for FIVESTAR.NS in small_cap\n"
     ]
    },
    {
     "name": "stderr",
     "output_type": "stream",
     "text": [
      "[*********************100%%**********************]  1 of 1 completed\n"
     ]
    },
    {
     "name": "stdout",
     "output_type": "stream",
     "text": [
      "Data saved for GLENMARK.NS in small_cap\n",
      "Cleaned data saved for small_cap/GLENMARK.NS_stock_data.csv\n"
     ]
    },
    {
     "name": "stderr",
     "output_type": "stream",
     "text": [
      "[*********************100%%**********************]  1 of 1 completed\n",
      "\n",
      "1 Failed download:\n",
      "['MEDANTAGR.NS']: Exception('%ticker%: No timezone found, symbol may be delisted')\n"
     ]
    },
    {
     "name": "stdout",
     "output_type": "stream",
     "text": [
      "No data available for MEDANTAGR.NS in small_cap\n"
     ]
    },
    {
     "name": "stderr",
     "output_type": "stream",
     "text": [
      "[*********************100%%**********************]  1 of 1 completed\n",
      "\n",
      "1 Failed download:\n",
      "['APHITE.NS']: Exception('%ticker%: No timezone found, symbol may be delisted')\n"
     ]
    },
    {
     "name": "stdout",
     "output_type": "stream",
     "text": [
      "No data available for APHITE.NS in small_cap\n"
     ]
    },
    {
     "name": "stderr",
     "output_type": "stream",
     "text": [
      "[*********************100%%**********************]  1 of 1 completed\n",
      "\n",
      "1 Failed download:\n",
      "['GESHIPLS.NS']: Exception('%ticker%: No timezone found, symbol may be delisted')\n"
     ]
    },
    {
     "name": "stdout",
     "output_type": "stream",
     "text": [
      "No data available for GESHIPLS.NS in small_cap\n"
     ]
    },
    {
     "name": "stderr",
     "output_type": "stream",
     "text": [
      "[*********************100%%**********************]  1 of 1 completed\n"
     ]
    },
    {
     "name": "stdout",
     "output_type": "stream",
     "text": [
      "Data saved for GMDCLTD.NS in small_cap\n",
      "Cleaned data saved for small_cap/GMDCLTD.NS_stock_data.csv\n"
     ]
    },
    {
     "name": "stderr",
     "output_type": "stream",
     "text": [
      "[*********************100%%**********************]  1 of 1 completed\n"
     ]
    },
    {
     "name": "stdout",
     "output_type": "stream",
     "text": [
      "Data saved for GNFC.NS in small_cap\n",
      "Cleaned data saved for small_cap/GNFC.NS_stock_data.csv\n"
     ]
    },
    {
     "name": "stderr",
     "output_type": "stream",
     "text": [
      "[*********************100%%**********************]  1 of 1 completed\n"
     ]
    },
    {
     "name": "stdout",
     "output_type": "stream",
     "text": [
      "Data saved for GSPL.NS in small_cap\n",
      "Cleaned data saved for small_cap/GSPL.NS_stock_data.csv\n"
     ]
    },
    {
     "name": "stderr",
     "output_type": "stream",
     "text": [
      "[*********************100%%**********************]  1 of 1 completed\n"
     ]
    },
    {
     "name": "stdout",
     "output_type": "stream",
     "text": [
      "Data saved for HFCL.NS in small_cap\n",
      "Cleaned data saved for small_cap/HFCL.NS_stock_data.csv\n"
     ]
    },
    {
     "name": "stderr",
     "output_type": "stream",
     "text": [
      "[*********************100%%**********************]  1 of 1 completed\n"
     ]
    },
    {
     "name": "stdout",
     "output_type": "stream",
     "text": [
      "Data saved for HAPPSTMNDS.NS in small_cap\n",
      "Cleaned data saved for small_cap/HAPPSTMNDS.NS_stock_data.csv\n"
     ]
    },
    {
     "name": "stderr",
     "output_type": "stream",
     "text": [
      "[*********************100%%**********************]  1 of 1 completed\n"
     ]
    },
    {
     "name": "stdout",
     "output_type": "stream",
     "text": [
      "Data saved for HSCL.NS in small_cap\n",
      "Cleaned data saved for small_cap/HSCL.NS_stock_data.csv\n"
     ]
    },
    {
     "name": "stderr",
     "output_type": "stream",
     "text": [
      "[*********************100%%**********************]  1 of 1 completed\n"
     ]
    },
    {
     "name": "stdout",
     "output_type": "stream",
     "text": [
      "Data saved for HINDCOPPER.NS in small_cap\n",
      "Cleaned data saved for small_cap/HINDCOPPER.NS_stock_data.csv\n"
     ]
    },
    {
     "name": "stderr",
     "output_type": "stream",
     "text": [
      "[*********************100%%**********************]  1 of 1 completed\n"
     ]
    },
    {
     "name": "stdout",
     "output_type": "stream",
     "text": [
      "Data saved for HONAUT.NS in small_cap\n",
      "Cleaned data saved for small_cap/HONAUT.NS_stock_data.csv\n"
     ]
    },
    {
     "name": "stderr",
     "output_type": "stream",
     "text": [
      "[*********************100%%**********************]  1 of 1 completed\n"
     ]
    },
    {
     "name": "stdout",
     "output_type": "stream",
     "text": [
      "Data saved for HUDCO.NS in small_cap\n",
      "Cleaned data saved for small_cap/HUDCO.NS_stock_data.csv\n"
     ]
    },
    {
     "name": "stderr",
     "output_type": "stream",
     "text": [
      "[*********************100%%**********************]  1 of 1 completed\n",
      "\n",
      "1 Failed download:\n",
      "['IDFCIFL.NS']: Exception('%ticker%: No timezone found, symbol may be delisted')\n"
     ]
    },
    {
     "name": "stdout",
     "output_type": "stream",
     "text": [
      "No data available for IDFCIFL.NS in small_cap\n"
     ]
    },
    {
     "name": "stderr",
     "output_type": "stream",
     "text": [
      "[*********************100%%**********************]  1 of 1 completed\n",
      "\n",
      "1 Failed download:\n",
      "['IRBIRCOMCO.NS']: Exception('%ticker%: No timezone found, symbol may be delisted')\n"
     ]
    },
    {
     "name": "stdout",
     "output_type": "stream",
     "text": [
      "No data available for IRBIRCOMCO.NS in small_cap\n"
     ]
    },
    {
     "name": "stderr",
     "output_type": "stream",
     "text": [
      "[*********************100%%**********************]  1 of 1 completed\n",
      "\n",
      "1 Failed download:\n",
      "['NIT.NS']: Exception('%ticker%: No timezone found, symbol may be delisted')\n"
     ]
    },
    {
     "name": "stdout",
     "output_type": "stream",
     "text": [
      "No data available for NIT.NS in small_cap\n"
     ]
    },
    {
     "name": "stderr",
     "output_type": "stream",
     "text": [
      "[*********************100%%**********************]  1 of 1 completed\n",
      "\n",
      "1 Failed download:\n",
      "['IIELECTRA.NS']: Exception('%ticker%: No timezone found, symbol may be delisted')\n"
     ]
    },
    {
     "name": "stdout",
     "output_type": "stream",
     "text": [
      "No data available for IIELECTRA.NS in small_cap\n"
     ]
    },
    {
     "name": "stderr",
     "output_type": "stream",
     "text": [
      "[*********************100%%**********************]  1 of 1 completed\n",
      "\n",
      "1 Failed download:\n",
      "['XIOBINTELLECT.NS']: Exception('%ticker%: No timezone found, symbol may be delisted')\n"
     ]
    },
    {
     "name": "stdout",
     "output_type": "stream",
     "text": [
      "No data available for XIOBINTELLECT.NS in small_cap\n"
     ]
    },
    {
     "name": "stderr",
     "output_type": "stream",
     "text": [
      "[*********************100%%**********************]  1 of 1 completed\n"
     ]
    },
    {
     "name": "stdout",
     "output_type": "stream",
     "text": [
      "Data saved for JBCHEPHARM.NS in small_cap\n",
      "Cleaned data saved for small_cap/JBCHEPHARM.NS_stock_data.csv\n"
     ]
    },
    {
     "name": "stderr",
     "output_type": "stream",
     "text": [
      "[*********************100%%**********************]  1 of 1 completed\n",
      "[*********************100%%**********************]  1 of 1 completed"
     ]
    },
    {
     "name": "stdout",
     "output_type": "stream",
     "text": [
      "Data saved for JBMA.NS in small_cap\n",
      "Cleaned data saved for small_cap/JBMA.NS_stock_data.csv\n"
     ]
    },
    {
     "name": "stderr",
     "output_type": "stream",
     "text": [
      "\n"
     ]
    },
    {
     "name": "stdout",
     "output_type": "stream",
     "text": [
      "Data saved for J&KBANK.NS in small_cap\n",
      "Cleaned data saved for small_cap/J&KBANK.NS_stock_data.csv\n"
     ]
    },
    {
     "name": "stderr",
     "output_type": "stream",
     "text": [
      "[*********************100%%**********************]  1 of 1 completed\n"
     ]
    },
    {
     "name": "stdout",
     "output_type": "stream",
     "text": [
      "Data saved for JYOTHYLAB.NS in small_cap\n",
      "Cleaned data saved for small_cap/JYOTHYLAB.NS_stock_data.csv\n"
     ]
    },
    {
     "name": "stderr",
     "output_type": "stream",
     "text": [
      "[*********************100%%**********************]  1 of 1 completed\n",
      "[*********************100%%**********************]  1 of 1 completed"
     ]
    },
    {
     "name": "stdout",
     "output_type": "stream",
     "text": [
      "Data saved for KARURVYSYA.NS in small_cap\n",
      "Cleaned data saved for small_cap/KARURVYSYA.NS_stock_data.csv\n"
     ]
    },
    {
     "name": "stderr",
     "output_type": "stream",
     "text": [
      "\n"
     ]
    },
    {
     "name": "stdout",
     "output_type": "stream",
     "text": [
      "Data saved for KEC.NS in small_cap\n",
      "Cleaned data saved for small_cap/KEC.NS_stock_data.csv\n"
     ]
    },
    {
     "name": "stderr",
     "output_type": "stream",
     "text": [
      "[*********************100%%**********************]  1 of 1 completed\n",
      "\n",
      "1 Failed download:\n",
      "['MGLX.NS']: Exception('%ticker%: No timezone found, symbol may be delisted')\n"
     ]
    },
    {
     "name": "stdout",
     "output_type": "stream",
     "text": [
      "No data available for MGLX.NS in small_cap\n"
     ]
    },
    {
     "name": "stderr",
     "output_type": "stream",
     "text": [
      "[*********************100%%**********************]  1 of 1 completed\n"
     ]
    },
    {
     "name": "stdout",
     "output_type": "stream",
     "text": [
      "Data saved for MANAPPURAM.NS in small_cap\n",
      "Cleaned data saved for small_cap/MANAPPURAM.NS_stock_data.csv\n"
     ]
    },
    {
     "name": "stderr",
     "output_type": "stream",
     "text": [
      "[*********************100%%**********************]  1 of 1 completed\n"
     ]
    },
    {
     "name": "stdout",
     "output_type": "stream",
     "text": [
      "Data saved for MRPL.NS in small_cap\n",
      "Cleaned data saved for small_cap/MRPL.NS_stock_data.csv\n"
     ]
    },
    {
     "name": "stderr",
     "output_type": "stream",
     "text": [
      "[*********************100%%**********************]  1 of 1 completed\n"
     ]
    },
    {
     "name": "stdout",
     "output_type": "stream",
     "text": [
      "Data saved for MCX.NS in small_cap\n",
      "Cleaned data saved for small_cap/MCX.NS_stock_data.csv\n"
     ]
    },
    {
     "name": "stderr",
     "output_type": "stream",
     "text": [
      "[*********************100%%**********************]  1 of 1 completed\n",
      "[*********************100%%**********************]  1 of 1 completed"
     ]
    },
    {
     "name": "stdout",
     "output_type": "stream",
     "text": [
      "Data saved for NATCOPHARM.NS in small_cap\n",
      "Cleaned data saved for small_cap/NATCOPHARM.NS_stock_data.csv\n"
     ]
    },
    {
     "name": "stderr",
     "output_type": "stream",
     "text": [
      "\n"
     ]
    },
    {
     "name": "stdout",
     "output_type": "stream",
     "text": [
      "Data saved for NBCC.NS in small_cap\n",
      "Cleaned data saved for small_cap/NBCC.NS_stock_data.csv\n"
     ]
    },
    {
     "name": "stderr",
     "output_type": "stream",
     "text": [
      "[*********************100%%**********************]  1 of 1 completed\n",
      "\n",
      "1 Failed download:\n",
      "['NCLCONSULT.NS']: Exception('%ticker%: No timezone found, symbol may be delisted')\n"
     ]
    },
    {
     "name": "stdout",
     "output_type": "stream",
     "text": [
      "No data available for NCLCONSULT.NS in small_cap\n"
     ]
    },
    {
     "name": "stderr",
     "output_type": "stream",
     "text": [
      "[*********************100%%**********************]  1 of 1 completed\n",
      "\n",
      "1 Failed download:\n",
      "['NINDIANS.NS']: Exception('%ticker%: No timezone found, symbol may be delisted')\n"
     ]
    },
    {
     "name": "stdout",
     "output_type": "stream",
     "text": [
      "No data available for NINDIANS.NS in small_cap\n"
     ]
    },
    {
     "name": "stderr",
     "output_type": "stream",
     "text": [
      "[*********************100%%**********************]  1 of 1 completed\n",
      "\n",
      "1 Failed download:\n",
      "['LNT.NS']: Exception('%ticker%: No timezone found, symbol may be delisted')\n"
     ]
    },
    {
     "name": "stdout",
     "output_type": "stream",
     "text": [
      "No data available for LNT.NS in small_cap\n"
     ]
    },
    {
     "name": "stderr",
     "output_type": "stream",
     "text": [
      "[*********************100%%**********************]  1 of 1 completed\n",
      "\n",
      "1 Failed download:\n",
      "['NPNHPLS.NS']: Exception('%ticker%: No timezone found, symbol may be delisted')\n"
     ]
    },
    {
     "name": "stdout",
     "output_type": "stream",
     "text": [
      "No data available for NPNHPLS.NS in small_cap\n"
     ]
    },
    {
     "name": "stderr",
     "output_type": "stream",
     "text": [
      "[*********************100%%**********************]  1 of 1 completed\n"
     ]
    },
    {
     "name": "stdout",
     "output_type": "stream",
     "text": [
      "Data saved for NATIONALUM.NS in small_cap\n",
      "Cleaned data saved for small_cap/NATIONALUM.NS_stock_data.csv\n"
     ]
    },
    {
     "name": "stderr",
     "output_type": "stream",
     "text": [
      "[*********************100%%**********************]  1 of 1 completed\n",
      "[*********************100%%**********************]  1 of 1 completed\n"
     ]
    },
    {
     "name": "stdout",
     "output_type": "stream",
     "text": [
      "Data saved for NAVINFLUOR.NS in small_cap\n",
      "Cleaned data saved for small_cap/NAVINFLUOR.NS_stock_data.csv\n",
      "Data saved for NAM-INDIA.NS in small_cap\n",
      "Cleaned data saved for small_cap/NAM-INDIA.NS_stock_data.csv\n"
     ]
    },
    {
     "name": "stderr",
     "output_type": "stream",
     "text": [
      "[*********************100%%**********************]  1 of 1 completed\n",
      "\n",
      "1 Failed download:\n",
      "['OLECTRAB.NS']: Exception('%ticker%: No timezone found, symbol may be delisted')\n"
     ]
    },
    {
     "name": "stdout",
     "output_type": "stream",
     "text": [
      "No data available for OLECTRAB.NS in small_cap\n"
     ]
    },
    {
     "name": "stderr",
     "output_type": "stream",
     "text": [
      "[*********************100%%**********************]  1 of 1 completed\n"
     ]
    },
    {
     "name": "stdout",
     "output_type": "stream",
     "text": [
      "Data saved for PNBHOUSING.NS in small_cap\n",
      "Cleaned data saved for small_cap/PNBHOUSING.NS_stock_data.csv\n"
     ]
    },
    {
     "name": "stderr",
     "output_type": "stream",
     "text": [
      "[*********************100%%**********************]  1 of 1 completed\n",
      "\n",
      "1 Failed download:\n",
      "['PVR.NS']: Exception('%ticker%: No timezone found, symbol may be delisted')\n"
     ]
    },
    {
     "name": "stdout",
     "output_type": "stream",
     "text": [
      "No data available for PVR.NS in small_cap\n"
     ]
    },
    {
     "name": "stderr",
     "output_type": "stream",
     "text": [
      "[*********************100%%**********************]  1 of 1 completed\n",
      "\n",
      "1 Failed download:\n",
      "['INOXGREEN.NS']: Exception(\"%ticker%: Data doesn't exist for startDate = 1483209000, endDate = 1609439400\")\n"
     ]
    },
    {
     "name": "stdout",
     "output_type": "stream",
     "text": [
      "No data available for INOXGREEN.NS in small_cap\n"
     ]
    },
    {
     "name": "stderr",
     "output_type": "stream",
     "text": [
      "[*********************100%%**********************]  1 of 1 completed\n",
      "\n",
      "1 Failed download:\n",
      "['PPLPHARMAA.NS']: Exception('%ticker%: No timezone found, symbol may be delisted')\n"
     ]
    },
    {
     "name": "stdout",
     "output_type": "stream",
     "text": [
      "No data available for PPLPHARMAA.NS in small_cap\n"
     ]
    },
    {
     "name": "stderr",
     "output_type": "stream",
     "text": [
      "[*********************100%%**********************]  1 of 1 completed\n",
      "\n",
      "1 Failed download:\n",
      "['PRAJINDAI.NS']: Exception('%ticker%: No timezone found, symbol may be delisted')\n"
     ]
    },
    {
     "name": "stdout",
     "output_type": "stream",
     "text": [
      "No data available for PRAJINDAI.NS in small_cap\n"
     ]
    },
    {
     "name": "stderr",
     "output_type": "stream",
     "text": [
      "[*********************100%%**********************]  1 of 1 completed\n",
      "\n",
      "1 Failed download:\n",
      "['RKABEL.NS']: Exception('%ticker%: No timezone found, symbol may be delisted')\n"
     ]
    },
    {
     "name": "stdout",
     "output_type": "stream",
     "text": [
      "No data available for RKABEL.NS in small_cap\n"
     ]
    },
    {
     "name": "stderr",
     "output_type": "stream",
     "text": [
      "[*********************100%%**********************]  1 of 1 completed\n"
     ]
    },
    {
     "name": "stdout",
     "output_type": "stream",
     "text": [
      "Data saved for RBLBANK.NS in small_cap\n",
      "Cleaned data saved for small_cap/RBLBANK.NS_stock_data.csv\n"
     ]
    },
    {
     "name": "stderr",
     "output_type": "stream",
     "text": [
      "[*********************100%%**********************]  1 of 1 completed\n"
     ]
    },
    {
     "name": "stdout",
     "output_type": "stream",
     "text": [
      "Data saved for RITES.NS in small_cap\n",
      "Cleaned data saved for small_cap/RITES.NS_stock_data.csv\n"
     ]
    },
    {
     "name": "stderr",
     "output_type": "stream",
     "text": [
      "[*********************100%%**********************]  1 of 1 completed\n"
     ]
    },
    {
     "name": "stdout",
     "output_type": "stream",
     "text": [
      "Data saved for RADICO.NS in small_cap\n",
      "Cleaned data saved for small_cap/RADICO.NS_stock_data.csv\n"
     ]
    },
    {
     "name": "stderr",
     "output_type": "stream",
     "text": [
      "[*********************100%%**********************]  1 of 1 completed\n"
     ]
    },
    {
     "name": "stdout",
     "output_type": "stream",
     "text": [
      "Data saved for RKFORGE.NS in small_cap\n",
      "Cleaned data saved for small_cap/RKFORGE.NS_stock_data.csv\n"
     ]
    },
    {
     "name": "stderr",
     "output_type": "stream",
     "text": [
      "[*********************100%%**********************]  1 of 1 completed\n"
     ]
    },
    {
     "name": "stdout",
     "output_type": "stream",
     "text": [
      "Data saved for RAYMOND.NS in small_cap\n",
      "Cleaned data saved for small_cap/RAYMOND.NS_stock_data.csv\n"
     ]
    },
    {
     "name": "stderr",
     "output_type": "stream",
     "text": [
      "[*********************100%%**********************]  1 of 1 completed\n"
     ]
    },
    {
     "name": "stdout",
     "output_type": "stream",
     "text": [
      "Data saved for REDINGTON.NS in small_cap\n",
      "Cleaned data saved for small_cap/REDINGTON.NS_stock_data.csv\n"
     ]
    },
    {
     "name": "stderr",
     "output_type": "stream",
     "text": [
      "[*********************100%%**********************]  1 of 1 completed\n",
      "\n",
      "1 Failed download:\n",
      "['RENUKAS.NS']: Exception('%ticker%: No timezone found, symbol may be delisted')\n"
     ]
    },
    {
     "name": "stdout",
     "output_type": "stream",
     "text": [
      "No data available for RENUKAS.NS in small_cap\n"
     ]
    },
    {
     "name": "stderr",
     "output_type": "stream",
     "text": [
      "[*********************100%%**********************]  1 of 1 completed\n",
      "\n",
      "1 Failed download:\n",
      "['HYAMMETLSO.NS']: Exception('%ticker%: No timezone found, symbol may be delisted')\n"
     ]
    },
    {
     "name": "stdout",
     "output_type": "stream",
     "text": [
      "No data available for HYAMMETLSO.NS in small_cap\n"
     ]
    },
    {
     "name": "stderr",
     "output_type": "stream",
     "text": [
      "[*********************100%%**********************]  1 of 1 completed\n",
      "\n",
      "1 Failed download:\n",
      "['NATSOFT.NS']: Exception('%ticker%: No timezone found, symbol may be delisted')\n"
     ]
    },
    {
     "name": "stdout",
     "output_type": "stream",
     "text": [
      "No data available for NATSOFT.NS in small_cap\n"
     ]
    },
    {
     "name": "stderr",
     "output_type": "stream",
     "text": [
      "[*********************100%%**********************]  1 of 1 completed\n",
      "\n",
      "1 Failed download:\n",
      "['SWANENERIG.NS']: Exception('%ticker%: No timezone found, symbol may be delisted')\n"
     ]
    },
    {
     "name": "stdout",
     "output_type": "stream",
     "text": [
      "No data available for SWANENERIG.NS in small_cap\n"
     ]
    },
    {
     "name": "stderr",
     "output_type": "stream",
     "text": [
      "[*********************100%%**********************]  1 of 1 completed\n"
     ]
    },
    {
     "name": "stdout",
     "output_type": "stream",
     "text": [
      "Data saved for TANLA.NS in small_cap\n",
      "Cleaned data saved for small_cap/TANLA.NS_stock_data.csv\n"
     ]
    },
    {
     "name": "stderr",
     "output_type": "stream",
     "text": [
      "[*********************100%%**********************]  1 of 1 completed\n",
      "\n",
      "1 Failed download:\n",
      "['TATAAINVIT.NS']: Exception('%ticker%: No timezone found, symbol may be delisted')\n"
     ]
    },
    {
     "name": "stdout",
     "output_type": "stream",
     "text": [
      "No data available for TATAAINVIT.NS in small_cap\n"
     ]
    },
    {
     "name": "stderr",
     "output_type": "stream",
     "text": [
      "[*********************100%%**********************]  1 of 1 completed\n",
      "\n",
      "1 Failed download:\n",
      "['TTMLES.NS']: Exception('%ticker%: No timezone found, symbol may be delisted')\n"
     ]
    },
    {
     "name": "stdout",
     "output_type": "stream",
     "text": [
      "No data available for TTMLES.NS in small_cap\n"
     ]
    },
    {
     "name": "stderr",
     "output_type": "stream",
     "text": [
      "[*********************100%%**********************]  1 of 1 completed\n"
     ]
    },
    {
     "name": "stdout",
     "output_type": "stream",
     "text": [
      "Data saved for TEJASNET.NS in small_cap\n",
      "Cleaned data saved for small_cap/TEJASNET.NS_stock_data.csv\n"
     ]
    },
    {
     "name": "stderr",
     "output_type": "stream",
     "text": [
      "[*********************100%%**********************]  1 of 1 completed\n",
      "\n",
      "1 Failed download:\n",
      "['TITAGARHCIAM.NS']: Exception('%ticker%: No timezone found, symbol may be delisted')\n"
     ]
    },
    {
     "name": "stdout",
     "output_type": "stream",
     "text": [
      "No data available for TITAGARHCIAM.NS in small_cap\n"
     ]
    },
    {
     "name": "stderr",
     "output_type": "stream",
     "text": [
      "[*********************100%%**********************]  1 of 1 completed\n"
     ]
    },
    {
     "name": "stdout",
     "output_type": "stream",
     "text": [
      "Data saved for TRIDENT.NS in small_cap\n",
      "Cleaned data saved for small_cap/TRIDENT.NS_stock_data.csv\n"
     ]
    },
    {
     "name": "stderr",
     "output_type": "stream",
     "text": [
      "[*********************100%%**********************]  1 of 1 completed\n",
      "\n",
      "1 Failed download:\n",
      "['TRITURBNE.NS']: Exception('%ticker%: No timezone found, symbol may be delisted')\n"
     ]
    },
    {
     "name": "stdout",
     "output_type": "stream",
     "text": [
      "No data available for TRITURBNE.NS in small_cap\n"
     ]
    },
    {
     "name": "stderr",
     "output_type": "stream",
     "text": [
      "[*********************100%%**********************]  1 of 1 completed\n"
     ]
    },
    {
     "name": "stdout",
     "output_type": "stream",
     "text": [
      "Data saved for UCOBANK.NS in small_cap\n",
      "Cleaned data saved for small_cap/UCOBANK.NS_stock_data.csv\n"
     ]
    },
    {
     "name": "stderr",
     "output_type": "stream",
     "text": [
      "[*********************100%%**********************]  1 of 1 completed\n"
     ]
    },
    {
     "name": "stdout",
     "output_type": "stream",
     "text": [
      "Data saved for UJJIVAN.NS in small_cap\n",
      "Cleaned data saved for small_cap/UJJIVAN.NS_stock_data.csv\n"
     ]
    },
    {
     "name": "stderr",
     "output_type": "stream",
     "text": [
      "[*********************100%%**********************]  1 of 1 completed\n",
      "\n",
      "1 Failed download:\n",
      "['SFB.NS']: Exception('%ticker%: No timezone found, symbol may be delisted')\n"
     ]
    },
    {
     "name": "stdout",
     "output_type": "stream",
     "text": [
      "No data available for SFB.NS in small_cap\n"
     ]
    },
    {
     "name": "stderr",
     "output_type": "stream",
     "text": [
      "[*********************100%%**********************]  1 of 1 completed\n",
      "\n",
      "1 Failed download:\n",
      "['WELSPUNIND.NS']: Exception('%ticker%: No timezone found, symbol may be delisted')\n"
     ]
    },
    {
     "name": "stdout",
     "output_type": "stream",
     "text": [
      "No data available for WELSPUNIND.NS in small_cap\n"
     ]
    },
    {
     "name": "stderr",
     "output_type": "stream",
     "text": [
      "[*********************100%%**********************]  1 of 1 completed\n",
      "\n",
      "1 Failed download:\n",
      "['ZIVZENSARTECH.NS']: Exception('%ticker%: No timezone found, symbol may be delisted')\n"
     ]
    },
    {
     "name": "stdout",
     "output_type": "stream",
     "text": [
      "No data available for ZIVZENSARTECH.NS in small_cap\n",
      "All data saved successfully.\n"
     ]
    }
   ],
   "source": [
    "# Define the start and end dates for fetching historical data\n",
    "start_date = \"2017-01-01\"\n",
    "end_date = \"2021-01-01\"\n",
    "\n",
    "# Fetch and save data for large-cap stocks\n",
    "fetch_and_save_data(large_cap_stocks, start_date, end_date, \"large_cap\")\n",
    "\n",
    "# Fetch and save data for mid-cap stocks\n",
    "fetch_and_save_data(mid_cap_stocks, start_date, end_date, \"mid_cap\")\n",
    "\n",
    "# Fetch and save data for small-cap stocks\n",
    "fetch_and_save_data(small_cap_stocks, start_date, end_date, \"small_cap\")\n",
    "\n",
    "print(\"All data saved successfully.\")"
   ]
  },
  {
   "cell_type": "code",
   "execution_count": 26,
   "metadata": {},
   "outputs": [],
   "source": [
    "def fetch_and_save_data(tickers, start_date, end_date, category):\n",
    "    for ticker in tickers:\n",
    "        try:\n",
    "            data = yf.download(ticker, start=start_date, end=end_date)\n",
    "            if not data.empty:\n",
    "                filename = f\"{category}/{ticker}_stock_data.csv\"\n",
    "                data.to_csv(filename)\n",
    "                print(f\"Data saved for {ticker} in {category}\")\n",
    "                \n",
    "                # Clean the data\n",
    "                clean_data(filename)\n",
    "            else:\n",
    "                print(f\"No data available for {ticker} in {category}\")\n",
    "        except Exception as e:\n",
    "            print(f\"Error fetching data for {ticker}: {e}\")\n",
    "\n",
    "def clean_data(file_path):\n",
    "    try:\n",
    "        df = pd.read_csv(file_path)\n",
    "        \n",
    "        # Perform data cleaning operations here\n",
    "        # Example: removing rows with missing values\n",
    "        df.dropna(inplace=True)\n",
    "        \n",
    "        # Save the cleaned data back to the file\n",
    "        df.to_csv(file_path, index=False)\n",
    "        print(f\"Cleaned data saved for {file_path}\")\n",
    "    except Exception as e:\n",
    "        print(f\"Error cleaning data for {file_path}: {e}\")"
   ]
  },
  {
   "cell_type": "code",
   "execution_count": 27,
   "metadata": {},
   "outputs": [
    {
     "data": {
      "text/plain": [
       "'import os\\n\\ndef delete_all_data(category):\\n    directory = f\"./{category}/\"\\n    for file in os.listdir(directory):\\n        if file.endswith(\".csv\"):\\n            os.remove(os.path.join(directory, file))\\n    print(f\"All data deleted from {category}\")\\n\\n# Example usage:\\ndelete_all_data(\"large_cap\")\\ndelete_all_data(\"mid_cap\")\\ndelete_all_data(\"small_cap\")\\n'"
      ]
     },
     "execution_count": 27,
     "metadata": {},
     "output_type": "execute_result"
    }
   ],
   "source": [
    "\"\"\"import os\n",
    "\n",
    "def delete_all_data(category):\n",
    "    directory = f\"./{category}/\"\n",
    "    for file in os.listdir(directory):\n",
    "        if file.endswith(\".csv\"):\n",
    "            os.remove(os.path.join(directory, file))\n",
    "    print(f\"All data deleted from {category}\")\n",
    "\n",
    "# Example usage:\n",
    "delete_all_data(\"large_cap\")\n",
    "delete_all_data(\"mid_cap\")\n",
    "delete_all_data(\"small_cap\")\n",
    "\"\"\""
   ]
  }
 ],
 "metadata": {
  "kernelspec": {
   "display_name": "Python 3",
   "language": "python",
   "name": "python3"
  },
  "language_info": {
   "codemirror_mode": {
    "name": "ipython",
    "version": 3
   },
   "file_extension": ".py",
   "mimetype": "text/x-python",
   "name": "python",
   "nbconvert_exporter": "python",
   "pygments_lexer": "ipython3",
   "version": "3.10.11"
  }
 },
 "nbformat": 4,
 "nbformat_minor": 2
}
